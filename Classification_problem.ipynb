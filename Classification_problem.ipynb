{
 "cells": [
  {
   "cell_type": "code",
   "execution_count": 1,
   "id": "f953adbe",
   "metadata": {},
   "outputs": [],
   "source": [
    "from model_testing.step_1 import one_hot_object_columns\n",
    "from model_testing.step_1 import encode_object_columns"
   ]
  },
  {
   "cell_type": "markdown",
   "id": "3645bab9",
   "metadata": {},
   "source": [
    "# Testing Model"
   ]
  },
  {
   "cell_type": "code",
   "execution_count": 2,
   "id": "38c1eae8",
   "metadata": {},
   "outputs": [
    {
     "name": "stdout",
     "output_type": "stream",
     "text": [
      "Model 1 | training_accuracy : 1.0 | validation_accuracy : 0.8977635782747604\n",
      "Model 2 | training_accuracy : 0.8791913811887181 | validation_accuracy : 0.8783484885721308\n",
      "Model 3 | training_accuracy : 0.8475971432030021 | validation_accuracy : 0.845908085524699\n",
      "Model 4 | training_accuracy : 1.0 | validation_accuracy : 0.8608994839026788\n",
      "\n",
      "Title : Random Forest Classifier\n",
      "              precision    recall  f1-score   support\n",
      "\n",
      "           0       0.92      0.96      0.94      3436\n",
      "           1       0.73      0.54      0.62       633\n",
      "\n",
      "    accuracy                           0.90      4069\n",
      "   macro avg       0.83      0.75      0.78      4069\n",
      "weighted avg       0.89      0.90      0.89      4069\n",
      "\n",
      "\n",
      "Title : Logistic Regression\n",
      "              precision    recall  f1-score   support\n",
      "\n",
      "           0       0.89      0.98      0.93      3436\n",
      "           1       0.74      0.34      0.46       633\n",
      "\n",
      "    accuracy                           0.88      4069\n",
      "   macro avg       0.81      0.66      0.70      4069\n",
      "weighted avg       0.87      0.88      0.86      4069\n",
      "\n",
      "\n",
      "Title : Support Vector Classifier\n",
      "              precision    recall  f1-score   support\n",
      "\n",
      "           0       0.85      1.00      0.92      3436\n",
      "           1       0.88      0.01      0.02       633\n",
      "\n",
      "    accuracy                           0.85      4069\n",
      "   macro avg       0.86      0.51      0.47      4069\n",
      "weighted avg       0.85      0.85      0.78      4069\n",
      "\n",
      "\n",
      "Title : Decision Tree Classifier\n",
      "              precision    recall  f1-score   support\n",
      "\n",
      "           0       0.92      0.92      0.92      3436\n",
      "           1       0.55      0.55      0.55       633\n",
      "\n",
      "    accuracy                           0.86      4069\n",
      "   macro avg       0.74      0.73      0.73      4069\n",
      "weighted avg       0.86      0.86      0.86      4069\n",
      "\n"
     ]
    }
   ],
   "source": [
    "encode_object_columns()"
   ]
  },
  {
   "cell_type": "code",
   "execution_count": 3,
   "id": "e8da0153",
   "metadata": {},
   "outputs": [
    {
     "name": "stdout",
     "output_type": "stream",
     "text": [
      "Model 1 | training_accuracy : 1.0 | validation_accuracy : 0.9012042270828213\n",
      "Model 2 | training_accuracy : 0.8828229027962716 | validation_accuracy : 0.8771196854263947\n",
      "Model 3 | training_accuracy : 0.8475971432030021 | validation_accuracy : 0.845908085524699\n",
      "Model 4 | training_accuracy : 1.0 | validation_accuracy : 0.8660604571147702\n",
      "\n",
      "Title : Random Forest Classifier\n",
      "              precision    recall  f1-score   support\n",
      "\n",
      "           0       0.92      0.97      0.94      3436\n",
      "           1       0.75      0.55      0.63       633\n",
      "\n",
      "    accuracy                           0.90      4069\n",
      "   macro avg       0.84      0.76      0.79      4069\n",
      "weighted avg       0.89      0.90      0.89      4069\n",
      "\n",
      "\n",
      "Title : Logistic Regression\n",
      "              precision    recall  f1-score   support\n",
      "\n",
      "           0       0.89      0.97      0.93      3436\n",
      "           1       0.72      0.35      0.47       633\n",
      "\n",
      "    accuracy                           0.88      4069\n",
      "   macro avg       0.80      0.66      0.70      4069\n",
      "weighted avg       0.86      0.88      0.86      4069\n",
      "\n",
      "\n",
      "Title : Support Vector Classifier\n",
      "              precision    recall  f1-score   support\n",
      "\n",
      "           0       0.85      1.00      0.92      3436\n",
      "           1       0.88      0.01      0.02       633\n",
      "\n",
      "    accuracy                           0.85      4069\n",
      "   macro avg       0.86      0.51      0.47      4069\n",
      "weighted avg       0.85      0.85      0.78      4069\n",
      "\n",
      "\n",
      "Title : Decision Tree Classifier\n",
      "              precision    recall  f1-score   support\n",
      "\n",
      "           0       0.92      0.92      0.92      3436\n",
      "           1       0.57      0.58      0.57       633\n",
      "\n",
      "    accuracy                           0.87      4069\n",
      "   macro avg       0.75      0.75      0.75      4069\n",
      "weighted avg       0.87      0.87      0.87      4069\n",
      "\n"
     ]
    }
   ],
   "source": [
    "one_hot_object_columns()"
   ]
  },
  {
   "cell_type": "code",
   "execution_count": null,
   "id": "ddc36128",
   "metadata": {},
   "outputs": [],
   "source": []
  }
 ],
 "metadata": {
  "kernelspec": {
   "display_name": "Python 3",
   "language": "python",
   "name": "python3"
  },
  "language_info": {
   "codemirror_mode": {
    "name": "ipython",
    "version": 3
   },
   "file_extension": ".py",
   "mimetype": "text/x-python",
   "name": "python",
   "nbconvert_exporter": "python",
   "pygments_lexer": "ipython3",
   "version": "3.8.8"
  }
 },
 "nbformat": 4,
 "nbformat_minor": 5
}
