{
 "cells": [
  {
   "cell_type": "code",
   "execution_count": null,
   "id": "f953adbe",
   "metadata": {},
   "outputs": [],
   "source": [
    "import matplotlib.pyplot as plt\n",
    "\n",
    "from cleaning.cleaning_data import read_data\n",
    "from model_testing.config import DATASET_PATH\n",
    "\n",
    "from plotting.plotting_data import plot_correlation\n",
    "\n",
    "# Testing step_1 model\n",
    "from model_testing.step_1 import one_hot_object_columns\n",
    "from model_testing.step_1 import encode_object_columns\n",
    "from model_testing.step_1 import one_hot_categorical_columns\n",
    "from model_testing.step_1 import one_hot_all\n",
    "from model_testing.step_1 import encode_categorical_model\n",
    "from model_testing.step_1 import one_hot_categorical_model\n",
    "from model_testing.step_1 import continues_model\n",
    "from model_testing.step_1 import one_hot_continues_model\n",
    "\n",
    "# Testing step_2 model\n",
    "from model_testing.step_2 import selection_anova_model\n",
    "from model_testing.step_2 import selection_chi2_model\n",
    "from model_testing.step_2 import selection_mutual_info_model\n",
    "from model_testing.step_2 import selection_variance_model\n",
    "from model_testing.step_2 import selection_decision_tree_model\n",
    "\n",
    "# Testing step_3 model\n",
    "from model_testing.step_3 import over_sampling_smote_model\n",
    "from model_testing.step_3 import over_sampling_random_model\n",
    "from model_testing.step_3 import over_sampling_adasyn_model\n",
    "from model_testing.step_3 import over_sampling_svmsmote_model\n",
    "from model_testing.step_3 import under_sampling_random_model\n",
    "from model_testing.step_3 import under_sampling_cluster_centroids_model"
   ]
  },
  {
   "cell_type": "markdown",
   "id": "f5b6e6b2",
   "metadata": {},
   "source": [
    "# Loading dataset"
   ]
  },
  {
   "cell_type": "code",
   "execution_count": null,
   "id": "05250c3c",
   "metadata": {},
   "outputs": [],
   "source": [
    "df = read_data(DATASET_PATH)\n",
    "\n",
    "df.head()"
   ]
  },
  {
   "cell_type": "code",
   "execution_count": null,
   "id": "0a307ead",
   "metadata": {},
   "outputs": [],
   "source": [
    "df.info()"
   ]
  },
  {
   "cell_type": "code",
   "execution_count": null,
   "id": "97d75072",
   "metadata": {},
   "outputs": [],
   "source": [
    "plt.subplots(figsize=(10, 7))\n",
    "\n",
    "plot_correlation(df)"
   ]
  },
  {
   "cell_type": "markdown",
   "id": "3645bab9",
   "metadata": {},
   "source": [
    "# Testing Model"
   ]
  },
  {
   "cell_type": "markdown",
   "id": "b0a2948c",
   "metadata": {},
   "source": [
    "## Step 1"
   ]
  },
  {
   "cell_type": "code",
   "execution_count": null,
   "id": "38c1eae8",
   "metadata": {},
   "outputs": [],
   "source": [
    "# encode_object_columns()"
   ]
  },
  {
   "cell_type": "code",
   "execution_count": null,
   "id": "e8da0153",
   "metadata": {},
   "outputs": [],
   "source": [
    "# one_hot_object_columns()"
   ]
  },
  {
   "cell_type": "code",
   "execution_count": null,
   "id": "ddc36128",
   "metadata": {},
   "outputs": [],
   "source": [
    "# one_hot_categorical_columns()"
   ]
  },
  {
   "cell_type": "code",
   "execution_count": null,
   "id": "5eabd0e5",
   "metadata": {},
   "outputs": [],
   "source": [
    "encode_categorical_model()"
   ]
  },
  {
   "cell_type": "code",
   "execution_count": null,
   "id": "51edb4a0",
   "metadata": {},
   "outputs": [],
   "source": [
    "one_hot_categorical_model()"
   ]
  },
  {
   "cell_type": "code",
   "execution_count": null,
   "id": "9efb753c",
   "metadata": {},
   "outputs": [],
   "source": [
    "continues_model()"
   ]
  },
  {
   "cell_type": "code",
   "execution_count": null,
   "id": "f0507c4c",
   "metadata": {},
   "outputs": [],
   "source": [
    "# one_hot_continues_model()"
   ]
  },
  {
   "cell_type": "code",
   "execution_count": null,
   "id": "d50037a1",
   "metadata": {},
   "outputs": [],
   "source": [
    "# one_hot_all()"
   ]
  },
  {
   "cell_type": "markdown",
   "id": "9efa2411",
   "metadata": {},
   "source": [
    "## Step 2"
   ]
  },
  {
   "cell_type": "code",
   "execution_count": null,
   "id": "7dce135d",
   "metadata": {},
   "outputs": [],
   "source": [
    "# selection_anova_model()"
   ]
  },
  {
   "cell_type": "code",
   "execution_count": null,
   "id": "595fb0ae",
   "metadata": {},
   "outputs": [],
   "source": [
    "# selection_chi2_model()"
   ]
  },
  {
   "cell_type": "code",
   "execution_count": null,
   "id": "9e67a6d3",
   "metadata": {},
   "outputs": [],
   "source": [
    "# selection_mutual_info_model()"
   ]
  },
  {
   "cell_type": "code",
   "execution_count": null,
   "id": "e2114b33",
   "metadata": {},
   "outputs": [],
   "source": [
    "# selection_variance_model()"
   ]
  },
  {
   "cell_type": "code",
   "execution_count": null,
   "id": "f157f2fa",
   "metadata": {},
   "outputs": [],
   "source": [
    "# selection_decision_tree_model()"
   ]
  },
  {
   "cell_type": "markdown",
   "id": "16200206",
   "metadata": {},
   "source": [
    "## Step 3"
   ]
  },
  {
   "cell_type": "code",
   "execution_count": null,
   "id": "18df5387",
   "metadata": {},
   "outputs": [],
   "source": [
    "# over_sampling_smote_model()"
   ]
  },
  {
   "cell_type": "code",
   "execution_count": null,
   "id": "d2698681",
   "metadata": {},
   "outputs": [],
   "source": [
    "# over_sampling_random_model()"
   ]
  },
  {
   "cell_type": "code",
   "execution_count": null,
   "id": "d3be31a1",
   "metadata": {},
   "outputs": [],
   "source": [
    "# over_sampling_adasyn_model()"
   ]
  },
  {
   "cell_type": "code",
   "execution_count": null,
   "id": "cfddc9d9",
   "metadata": {},
   "outputs": [],
   "source": [
    "# over_sampling_svmsmote_model()"
   ]
  },
  {
   "cell_type": "code",
   "execution_count": null,
   "id": "3972f388",
   "metadata": {},
   "outputs": [],
   "source": [
    "# under_sampling_random_model()"
   ]
  },
  {
   "cell_type": "code",
   "execution_count": null,
   "id": "9486d42c",
   "metadata": {},
   "outputs": [],
   "source": [
    "# under_sampling_cluster_centroids_model()"
   ]
  }
 ],
 "metadata": {
  "kernelspec": {
   "display_name": "Python 3",
   "language": "python",
   "name": "python3"
  },
  "language_info": {
   "codemirror_mode": {
    "name": "ipython",
    "version": 3
   },
   "file_extension": ".py",
   "mimetype": "text/x-python",
   "name": "python",
   "nbconvert_exporter": "python",
   "pygments_lexer": "ipython3",
   "version": "3.8.8"
  }
 },
 "nbformat": 4,
 "nbformat_minor": 5
}
