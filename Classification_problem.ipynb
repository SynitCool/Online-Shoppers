{
 "cells": [
  {
   "cell_type": "code",
<<<<<<< HEAD
   "execution_count": 1,
=======
   "execution_count": null,
>>>>>>> step_1
   "id": "f953adbe",
   "metadata": {},
   "outputs": [],
   "source": [
    "import matplotlib.pyplot as plt\n",
    "\n",
    "from cleaning.cleaning_data import read_data\n",
    "from model_testing.config import DATASET_PATH\n",
    "\n",
    "from plotting.plotting_data import plot_correlation\n",
    "\n",
    "# Testing step_1 model\n",
    "from model_testing.step_1 import one_hot_object_columns\n",
    "from model_testing.step_1 import encode_object_columns\n",
    "from model_testing.step_1 import one_hot_categorical_columns\n",
    "from model_testing.step_1 import one_hot_all\n",
    "from model_testing.step_1 import encode_categorical_model\n",
    "from model_testing.step_1 import one_hot_categorical_model\n",
    "from model_testing.step_1 import continues_model\n",
    "from model_testing.step_1 import one_hot_continues_model\n",
    "\n",
    "# Testing step_2 model\n",
    "from model_testing.step_2 import selection_anova_model\n",
    "from model_testing.step_2 import selection_chi2_model\n",
    "from model_testing.step_2 import selection_mutual_info_model\n",
    "from model_testing.step_2 import selection_variance_model\n",
    "from model_testing.step_2 import selection_decision_tree_model\n",
    "\n",
    "# Testing step_3 model\n",
    "from model_testing.step_3 import over_sampling_smote_model\n",
    "from model_testing.step_3 import over_sampling_random_model\n",
    "from model_testing.step_3 import over_sampling_adasyn_model\n",
    "from model_testing.step_3 import over_sampling_svmsmote_model\n",
    "from model_testing.step_3 import under_sampling_random_model\n",
    "from model_testing.step_3 import under_sampling_cluster_centroids_model"
   ]
  },
  {
   "cell_type": "markdown",
   "id": "f5b6e6b2",
   "metadata": {},
   "source": [
    "# Loading dataset"
   ]
  },
  {
   "cell_type": "code",
   "execution_count": null,
   "id": "05250c3c",
   "metadata": {},
   "outputs": [],
   "source": [
    "df = read_data(DATASET_PATH)\n",
    "\n",
    "df.head()"
   ]
  },
  {
   "cell_type": "code",
   "execution_count": null,
   "id": "0a307ead",
   "metadata": {},
   "outputs": [],
   "source": [
    "df.info()"
   ]
  },
  {
   "cell_type": "code",
   "execution_count": null,
   "id": "97d75072",
   "metadata": {},
   "outputs": [],
   "source": [
    "plt.subplots(figsize=(10, 7))\n",
    "\n",
    "plot_correlation(df)"
   ]
  },
  {
   "cell_type": "markdown",
   "id": "3645bab9",
   "metadata": {},
   "source": [
    "# Testing Model"
   ]
  },
  {
   "cell_type": "markdown",
   "id": "b0a2948c",
   "metadata": {},
   "source": [
    "## Step 1"
   ]
  },
  {
   "cell_type": "code",
   "execution_count": null,
   "id": "38c1eae8",
   "metadata": {},
   "outputs": [
    {
     "name": "stdout",
     "output_type": "stream",
     "text": [
      "Model 1 | training_accuracy : 0.9998789492797482 | validation_accuracy : 0.8989923814204964\n",
      "Model 2 | training_accuracy : 0.8791913811887181 | validation_accuracy : 0.8783484885721308\n",
      "Model 3 | training_accuracy : 0.8475971432030021 | validation_accuracy : 0.845908085524699\n",
      "Model 4 | training_accuracy : 1.0 | validation_accuracy : 0.8591791594986483\n",
      "\n",
      "Title : Random Forest Classifier\n",
      "              precision    recall  f1-score   support\n",
      "\n",
      "           0       0.92      0.96      0.94      3436\n",
      "           1       0.73      0.55      0.63       633\n",
      "\n",
      "    accuracy                           0.90      4069\n",
      "   macro avg       0.83      0.76      0.79      4069\n",
      "weighted avg       0.89      0.90      0.89      4069\n",
      "\n",
      "\n",
      "Title : Logistic Regression\n",
      "              precision    recall  f1-score   support\n",
      "\n",
      "           0       0.89      0.98      0.93      3436\n",
      "           1       0.74      0.34      0.46       633\n",
      "\n",
      "    accuracy                           0.88      4069\n",
      "   macro avg       0.81      0.66      0.70      4069\n",
      "weighted avg       0.87      0.88      0.86      4069\n",
      "\n",
      "\n",
      "Title : Support Vector Classifier\n",
      "              precision    recall  f1-score   support\n",
      "\n",
      "           0       0.85      1.00      0.92      3436\n",
      "           1       0.88      0.01      0.02       633\n",
      "\n",
      "    accuracy                           0.85      4069\n",
      "   macro avg       0.86      0.51      0.47      4069\n",
      "weighted avg       0.85      0.85      0.78      4069\n",
      "\n",
      "\n",
      "Title : Decision Tree Classifier\n",
      "              precision    recall  f1-score   support\n",
      "\n",
      "           0       0.92      0.92      0.92      3436\n",
      "           1       0.55      0.55      0.55       633\n",
      "\n",
      "    accuracy                           0.86      4069\n",
      "   macro avg       0.73      0.73      0.73      4069\n",
      "weighted avg       0.86      0.86      0.86      4069\n",
      "\n"
     ]
    }
   ],
   "source": [
    "encode_object_columns()"
   ]
  },
  {
   "cell_type": "code",
   "execution_count": null,
   "id": "e8da0153",
   "metadata": {},
   "outputs": [
    {
     "name": "stdout",
     "output_type": "stream",
     "text": [
      "Model 1 | training_accuracy : 1.0 | validation_accuracy : 0.8980093389039076\n",
      "Model 2 | training_accuracy : 0.8828229027962716 | validation_accuracy : 0.8771196854263947\n",
      "Model 3 | training_accuracy : 0.8475971432030021 | validation_accuracy : 0.845908085524699\n",
      "Model 4 | training_accuracy : 1.0 | validation_accuracy : 0.8613910051609732\n",
      "\n",
      "Title : Random Forest Classifier\n",
      "              precision    recall  f1-score   support\n",
      "\n",
      "           0       0.92      0.96      0.94      3436\n",
      "           1       0.73      0.55      0.63       633\n",
      "\n",
      "    accuracy                           0.90      4069\n",
      "   macro avg       0.82      0.76      0.78      4069\n",
      "weighted avg       0.89      0.90      0.89      4069\n",
      "\n",
      "\n",
      "Title : Logistic Regression\n",
      "              precision    recall  f1-score   support\n",
      "\n",
      "           0       0.89      0.97      0.93      3436\n",
      "           1       0.72      0.35      0.47       633\n",
      "\n",
      "    accuracy                           0.88      4069\n",
      "   macro avg       0.80      0.66      0.70      4069\n",
      "weighted avg       0.86      0.88      0.86      4069\n",
      "\n",
      "\n",
      "Title : Support Vector Classifier\n",
      "              precision    recall  f1-score   support\n",
      "\n",
      "           0       0.85      1.00      0.92      3436\n",
      "           1       0.88      0.01      0.02       633\n",
      "\n",
      "    accuracy                           0.85      4069\n",
      "   macro avg       0.86      0.51      0.47      4069\n",
      "weighted avg       0.85      0.85      0.78      4069\n",
      "\n",
      "\n",
      "Title : Decision Tree Classifier\n",
      "              precision    recall  f1-score   support\n",
      "\n",
      "           0       0.92      0.92      0.92      3436\n",
      "           1       0.55      0.57      0.56       633\n",
      "\n",
      "    accuracy                           0.86      4069\n",
      "   macro avg       0.74      0.74      0.74      4069\n",
      "weighted avg       0.86      0.86      0.86      4069\n",
      "\n"
     ]
    }
   ],
   "source": [
    "one_hot_object_columns()"
   ]
  },
  {
   "cell_type": "code",
   "execution_count": null,
   "id": "ddc36128",
   "metadata": {},
   "outputs": [
    {
     "name": "stdout",
     "output_type": "stream",
     "text": [
      "Model 1 | training_accuracy : 0.9998789492797482 | validation_accuracy : 0.8935856475792578\n",
      "Model 2 | training_accuracy : 0.8828229027962716 | validation_accuracy : 0.8840009830425166\n",
      "Model 3 | training_accuracy : 0.8475971432030021 | validation_accuracy : 0.8461538461538461\n",
      "Model 4 | training_accuracy : 1.0 | validation_accuracy : 0.8665519783730646\n",
      "\n",
      "Title : Random Forest Classifier\n",
      "              precision    recall  f1-score   support\n",
      "\n",
      "           0       0.90      0.98      0.94      3436\n",
      "           1       0.78      0.44      0.56       633\n",
      "\n",
      "    accuracy                           0.89      4069\n",
      "   macro avg       0.84      0.71      0.75      4069\n",
      "weighted avg       0.89      0.89      0.88      4069\n",
      "\n",
      "\n",
      "Title : Logistic Regression\n",
      "              precision    recall  f1-score   support\n",
      "\n",
      "           0       0.90      0.98      0.93      3436\n",
      "           1       0.75      0.38      0.51       633\n",
      "\n",
      "    accuracy                           0.88      4069\n",
      "   macro avg       0.82      0.68      0.72      4069\n",
      "weighted avg       0.87      0.88      0.87      4069\n",
      "\n",
      "\n",
      "Title : Support Vector Classifier\n",
      "              precision    recall  f1-score   support\n",
      "\n",
      "           0       0.85      1.00      0.92      3436\n",
      "           1       1.00      0.01      0.02       633\n",
      "\n",
      "    accuracy                           0.85      4069\n",
      "   macro avg       0.92      0.51      0.47      4069\n",
      "weighted avg       0.87      0.85      0.78      4069\n",
      "\n",
      "\n",
      "Title : Decision Tree Classifier\n",
      "              precision    recall  f1-score   support\n",
      "\n",
      "           0       0.92      0.93      0.92      3436\n",
      "           1       0.57      0.55      0.56       633\n",
      "\n",
      "    accuracy                           0.87      4069\n",
      "   macro avg       0.75      0.74      0.74      4069\n",
      "weighted avg       0.86      0.87      0.87      4069\n",
      "\n"
     ]
    }
   ],
   "source": [
    "one_hot_categorical_columns()"
   ]
  },
  {
   "cell_type": "code",
<<<<<<< HEAD
   "execution_count": 8,
   "id": "9881f096",
=======
   "execution_count": null,
   "id": "5eabd0e5",
   "metadata": {},
   "outputs": [],
   "source": [
    "encode_categorical_model()"
   ]
  },
  {
   "cell_type": "code",
   "execution_count": null,
   "id": "51edb4a0",
   "metadata": {},
   "outputs": [],
   "source": [
    "one_hot_categorical_model()"
   ]
  },
  {
   "cell_type": "code",
   "execution_count": null,
   "id": "9efb753c",
   "metadata": {},
   "outputs": [],
   "source": [
    "continues_model()"
   ]
  },
  {
   "cell_type": "code",
   "execution_count": null,
   "id": "f0507c4c",
   "metadata": {},
   "outputs": [],
   "source": [
    "# one_hot_continues_model()"
   ]
  },
  {
   "cell_type": "code",
   "execution_count": null,
   "id": "d50037a1",
   "metadata": {},
   "outputs": [],
   "source": [
    "# one_hot_all()"
   ]
  },
  {
   "cell_type": "markdown",
   "id": "9efa2411",
>>>>>>> step_1
   "metadata": {},
   "outputs": [
    {
     "name": "stdout",
     "output_type": "stream",
     "text": [
      "Model 1 | training_accuracy : 0.9984263406367268 | validation_accuracy : 0.835586139100516\n",
      "Model 2 | training_accuracy : 0.8446919259169592 | validation_accuracy : 0.8419759154583436\n",
      "Model 3 | training_accuracy : 0.8456603316789735 | validation_accuracy : 0.8444335217498157\n",
      "Model 4 | training_accuracy : 0.9984263406367268 | validation_accuracy : 0.759646104694028\n",
      "\n",
      "Title : Random Forest Classifier\n",
      "              precision    recall  f1-score   support\n",
      "\n",
      "           0       0.85      0.97      0.91      3436\n",
      "           1       0.39      0.10      0.16       633\n",
      "\n",
      "    accuracy                           0.84      4069\n",
      "   macro avg       0.62      0.54      0.54      4069\n",
      "weighted avg       0.78      0.84      0.79      4069\n",
      "\n",
      "\n",
      "Title : Logistic Regression\n",
      "              precision    recall  f1-score   support\n",
      "\n",
      "           0       0.85      0.99      0.91      3436\n",
      "           1       0.34      0.02      0.03       633\n",
      "\n",
      "    accuracy                           0.84      4069\n",
      "   macro avg       0.59      0.51      0.47      4069\n",
      "weighted avg       0.77      0.84      0.78      4069\n",
      "\n",
      "\n",
      "Title : Support Vector Classifier\n",
      "              precision    recall  f1-score   support\n",
      "\n",
      "           0       0.84      1.00      0.92      3436\n",
      "           1       0.00      0.00      0.00       633\n",
      "\n",
      "    accuracy                           0.84      4069\n",
      "   macro avg       0.42      0.50      0.46      4069\n",
      "weighted avg       0.71      0.84      0.77      4069\n",
      "\n",
      "\n",
      "Title : Decision Tree Classifier\n",
      "              precision    recall  f1-score   support\n",
      "\n",
      "           0       0.86      0.85      0.86      3436\n",
      "           1       0.24      0.25      0.25       633\n",
      "\n",
      "    accuracy                           0.76      4069\n",
      "   macro avg       0.55      0.55      0.55      4069\n",
      "weighted avg       0.76      0.76      0.76      4069\n",
      "\n"
     ]
    },
    {
     "name": "stderr",
     "output_type": "stream",
     "text": [
      "C:\\Users\\Bina Umat\\anaconda3\\lib\\site-packages\\sklearn\\metrics\\_classification.py:1245: UndefinedMetricWarning: Precision and F-score are ill-defined and being set to 0.0 in labels with no predicted samples. Use `zero_division` parameter to control this behavior.\n",
      "  _warn_prf(average, modifier, msg_start, len(result))\n",
      "C:\\Users\\Bina Umat\\anaconda3\\lib\\site-packages\\sklearn\\metrics\\_classification.py:1245: UndefinedMetricWarning: Precision and F-score are ill-defined and being set to 0.0 in labels with no predicted samples. Use `zero_division` parameter to control this behavior.\n",
      "  _warn_prf(average, modifier, msg_start, len(result))\n",
      "C:\\Users\\Bina Umat\\anaconda3\\lib\\site-packages\\sklearn\\metrics\\_classification.py:1245: UndefinedMetricWarning: Precision and F-score are ill-defined and being set to 0.0 in labels with no predicted samples. Use `zero_division` parameter to control this behavior.\n",
      "  _warn_prf(average, modifier, msg_start, len(result))\n"
     ]
    }
   ],
   "source": [
    "encode_categorical_model()"
   ]
  },
  {
   "cell_type": "code",
<<<<<<< HEAD
   "execution_count": 9,
   "id": "a5fe24fa",
=======
   "execution_count": null,
   "id": "7dce135d",
>>>>>>> step_1
   "metadata": {},
   "outputs": [
    {
     "name": "stdout",
     "output_type": "stream",
     "text": [
      "Model 1 | training_accuracy : 0.9984263406367268 | validation_accuracy : 0.8417301548291963\n",
      "Model 2 | training_accuracy : 0.849897106887786 | validation_accuracy : 0.8427131973457852\n",
      "Model 3 | training_accuracy : 0.8457813823992253 | validation_accuracy : 0.8444335217498157\n",
      "Model 4 | training_accuracy : 0.9984263406367268 | validation_accuracy : 0.7758663062177439\n",
      "\n",
      "Title : Random Forest Classifier\n",
      "              precision    recall  f1-score   support\n",
      "\n",
      "           0       0.85      0.99      0.91      3436\n",
      "           1       0.40      0.04      0.07       633\n",
      "\n",
      "    accuracy                           0.84      4069\n",
      "   macro avg       0.63      0.51      0.49      4069\n",
      "weighted avg       0.78      0.84      0.78      4069\n",
      "\n",
      "\n",
      "Title : Logistic Regression\n",
      "              precision    recall  f1-score   support\n",
      "\n",
      "           0       0.85      0.99      0.91      3436\n",
      "           1       0.44      0.04      0.08       633\n",
      "\n",
      "    accuracy                           0.84      4069\n",
      "   macro avg       0.65      0.52      0.50      4069\n",
      "weighted avg       0.79      0.84      0.78      4069\n",
      "\n",
      "\n",
      "Title : Support Vector Classifier\n",
      "              precision    recall  f1-score   support\n",
      "\n",
      "           0       0.84      1.00      0.92      3436\n",
      "           1       0.00      0.00      0.00       633\n",
      "\n",
      "    accuracy                           0.84      4069\n",
      "   macro avg       0.42      0.50      0.46      4069\n",
      "weighted avg       0.71      0.84      0.77      4069\n",
      "\n",
      "\n",
      "Title : Decision Tree Classifier\n",
      "              precision    recall  f1-score   support\n",
      "\n",
      "           0       0.86      0.88      0.87      3436\n",
      "           1       0.25      0.22      0.24       633\n",
      "\n",
      "    accuracy                           0.78      4069\n",
      "   macro avg       0.56      0.55      0.55      4069\n",
      "weighted avg       0.77      0.78      0.77      4069\n",
      "\n"
     ]
    },
    {
     "name": "stderr",
     "output_type": "stream",
     "text": [
      "C:\\Users\\Bina Umat\\anaconda3\\lib\\site-packages\\sklearn\\metrics\\_classification.py:1245: UndefinedMetricWarning: Precision and F-score are ill-defined and being set to 0.0 in labels with no predicted samples. Use `zero_division` parameter to control this behavior.\n",
      "  _warn_prf(average, modifier, msg_start, len(result))\n",
      "C:\\Users\\Bina Umat\\anaconda3\\lib\\site-packages\\sklearn\\metrics\\_classification.py:1245: UndefinedMetricWarning: Precision and F-score are ill-defined and being set to 0.0 in labels with no predicted samples. Use `zero_division` parameter to control this behavior.\n",
      "  _warn_prf(average, modifier, msg_start, len(result))\n",
      "C:\\Users\\Bina Umat\\anaconda3\\lib\\site-packages\\sklearn\\metrics\\_classification.py:1245: UndefinedMetricWarning: Precision and F-score are ill-defined and being set to 0.0 in labels with no predicted samples. Use `zero_division` parameter to control this behavior.\n",
      "  _warn_prf(average, modifier, msg_start, len(result))\n"
     ]
    }
   ],
   "source": [
    "one_hot_categorical_model()"
   ]
  },
  {
   "cell_type": "code",
<<<<<<< HEAD
   "execution_count": 10,
   "id": "c79d8ac9",
=======
   "execution_count": null,
   "id": "595fb0ae",
>>>>>>> step_1
   "metadata": {},
   "outputs": [
    {
     "name": "stdout",
     "output_type": "stream",
     "text": [
      "Model 1 | training_accuracy : 0.9997578985594965 | validation_accuracy : 0.8901449987711969\n",
      "Model 2 | training_accuracy : 0.8816123955937538 | validation_accuracy : 0.8803145736053084\n",
      "Model 3 | training_accuracy : 0.8475971432030021 | validation_accuracy : 0.845908085524699\n",
      "Model 4 | training_accuracy : 0.9997578985594965 | validation_accuracy : 0.8552469894322929\n",
      "\n",
      "Title : Random Forest Classifier\n",
      "              precision    recall  f1-score   support\n",
      "\n",
      "           0       0.92      0.96      0.94      3436\n",
      "           1       0.69      0.53      0.60       633\n",
      "\n",
      "    accuracy                           0.89      4069\n",
      "   macro avg       0.80      0.74      0.77      4069\n",
      "weighted avg       0.88      0.89      0.88      4069\n",
      "\n",
      "\n",
      "Title : Logistic Regression\n",
      "              precision    recall  f1-score   support\n",
      "\n",
      "           0       0.89      0.98      0.93      3436\n",
      "           1       0.75      0.34      0.47       633\n",
      "\n",
      "    accuracy                           0.88      4069\n",
      "   macro avg       0.82      0.66      0.70      4069\n",
      "weighted avg       0.87      0.88      0.86      4069\n",
      "\n",
      "\n",
      "Title : Support Vector Classifier\n",
      "              precision    recall  f1-score   support\n",
      "\n",
      "           0       0.85      1.00      0.92      3436\n",
      "           1       0.88      0.01      0.02       633\n",
      "\n",
      "    accuracy                           0.85      4069\n",
      "   macro avg       0.86      0.51      0.47      4069\n",
      "weighted avg       0.85      0.85      0.78      4069\n",
      "\n",
      "\n",
      "Title : Decision Tree Classifier\n",
      "              precision    recall  f1-score   support\n",
      "\n",
      "           0       0.91      0.91      0.91      3436\n",
      "           1       0.53      0.54      0.54       633\n",
      "\n",
      "    accuracy                           0.86      4069\n",
      "   macro avg       0.72      0.73      0.73      4069\n",
      "weighted avg       0.86      0.86      0.86      4069\n",
      "\n"
     ]
    }
   ],
   "source": [
    "continues_model()"
   ]
  },
  {
   "cell_type": "code",
<<<<<<< HEAD
   "execution_count": 11,
   "id": "2fc338f2",
=======
   "execution_count": null,
   "id": "9e67a6d3",
>>>>>>> step_1
   "metadata": {},
   "outputs": [],
   "source": [
    "# one_hot_continues_model()"
   ]
  },
  {
   "cell_type": "code",
<<<<<<< HEAD
   "execution_count": 12,
   "id": "b9be8bd9",
   "metadata": {},
   "outputs": [],
   "source": [
    "# one_hot_all()"
=======
   "execution_count": null,
   "id": "e2114b33",
   "metadata": {},
   "outputs": [],
   "source": [
    "# selection_variance_model()"
   ]
  },
  {
   "cell_type": "code",
   "execution_count": null,
   "id": "f157f2fa",
   "metadata": {},
   "outputs": [],
   "source": [
    "# selection_decision_tree_model()"
>>>>>>> step_1
   ]
  },
  {
   "cell_type": "markdown",
   "id": "9efa2411",
   "metadata": {},
   "source": [
    "## Step 2"
   ]
  },
  {
   "cell_type": "code",
<<<<<<< HEAD
   "execution_count": 13,
   "id": "7dce135d",
   "metadata": {},
   "outputs": [
    {
     "name": "stdout",
     "output_type": "stream",
     "text": [
      "Model 1 | training_accuracy : 1.0 | validation_accuracy : 0.898500860162202\n",
      "Model 2 | training_accuracy : 0.8791913811887181 | validation_accuracy : 0.8783484885721308\n",
      "Model 3 | training_accuracy : 0.8475971432030021 | validation_accuracy : 0.845908085524699\n",
      "Model 4 | training_accuracy : 1.0 | validation_accuracy : 0.8621282870484148\n",
      "\n",
      "Title : Random Forest Classifier\n",
      "              precision    recall  f1-score   support\n",
      "\n",
      "           0       0.92      0.96      0.94      3436\n",
      "           1       0.72      0.56      0.63       633\n",
      "\n",
      "    accuracy                           0.90      4069\n",
      "   macro avg       0.82      0.76      0.79      4069\n",
      "weighted avg       0.89      0.90      0.89      4069\n",
      "\n",
      "\n",
      "Title : Logistic Regression\n",
      "              precision    recall  f1-score   support\n",
      "\n",
      "           0       0.89      0.98      0.93      3436\n",
      "           1       0.74      0.34      0.46       633\n",
      "\n",
      "    accuracy                           0.88      4069\n",
      "   macro avg       0.81      0.66      0.70      4069\n",
      "weighted avg       0.87      0.88      0.86      4069\n",
      "\n",
      "\n",
      "Title : Support Vector Classifier\n",
      "              precision    recall  f1-score   support\n",
      "\n",
      "           0       0.85      1.00      0.92      3436\n",
      "           1       0.88      0.01      0.02       633\n",
      "\n",
      "    accuracy                           0.85      4069\n",
      "   macro avg       0.86      0.51      0.47      4069\n",
      "weighted avg       0.85      0.85      0.78      4069\n",
      "\n",
      "\n",
      "Title : Decision Tree Classifier\n",
      "              precision    recall  f1-score   support\n",
      "\n",
      "           0       0.92      0.92      0.92      3436\n",
      "           1       0.56      0.55      0.55       633\n",
      "\n",
      "    accuracy                           0.86      4069\n",
      "   macro avg       0.74      0.74      0.74      4069\n",
      "weighted avg       0.86      0.86      0.86      4069\n",
      "\n"
     ]
    }
   ],
   "source": [
    "selection_anova_model()"
=======
   "execution_count": null,
   "id": "18df5387",
   "metadata": {},
   "outputs": [],
   "source": [
    "# over_sampling_smote_model()"
>>>>>>> step_1
   ]
  },
  {
   "cell_type": "code",
<<<<<<< HEAD
   "execution_count": 14,
   "id": "595fb0ae",
   "metadata": {},
   "outputs": [
    {
     "name": "stdout",
     "output_type": "stream",
     "text": [
      "Model 1 | training_accuracy : 0.9998789492797482 | validation_accuracy : 0.8975178176456132\n",
      "Model 2 | training_accuracy : 0.8791913811887181 | validation_accuracy : 0.8783484885721308\n",
      "Model 3 | training_accuracy : 0.8475971432030021 | validation_accuracy : 0.845908085524699\n",
      "Model 4 | training_accuracy : 1.0 | validation_accuracy : 0.8618825264192677\n",
      "\n",
      "Title : Random Forest Classifier\n",
      "              precision    recall  f1-score   support\n",
      "\n",
      "           0       0.92      0.96      0.94      3436\n",
      "           1       0.72      0.55      0.63       633\n",
      "\n",
      "    accuracy                           0.90      4069\n",
      "   macro avg       0.82      0.76      0.78      4069\n",
      "weighted avg       0.89      0.90      0.89      4069\n",
      "\n",
      "\n",
      "Title : Logistic Regression\n",
      "              precision    recall  f1-score   support\n",
      "\n",
      "           0       0.89      0.98      0.93      3436\n",
      "           1       0.74      0.34      0.46       633\n",
      "\n",
      "    accuracy                           0.88      4069\n",
      "   macro avg       0.81      0.66      0.70      4069\n",
      "weighted avg       0.87      0.88      0.86      4069\n",
      "\n",
      "\n",
      "Title : Support Vector Classifier\n",
      "              precision    recall  f1-score   support\n",
      "\n",
      "           0       0.85      1.00      0.92      3436\n",
      "           1       0.88      0.01      0.02       633\n",
      "\n",
      "    accuracy                           0.85      4069\n",
      "   macro avg       0.86      0.51      0.47      4069\n",
      "weighted avg       0.85      0.85      0.78      4069\n",
      "\n",
      "\n",
      "Title : Decision Tree Classifier\n",
      "              precision    recall  f1-score   support\n",
      "\n",
      "           0       0.92      0.92      0.92      3436\n",
      "           1       0.56      0.56      0.56       633\n",
      "\n",
      "    accuracy                           0.86      4069\n",
      "   macro avg       0.74      0.74      0.74      4069\n",
      "weighted avg       0.86      0.86      0.86      4069\n",
      "\n"
     ]
    }
   ],
   "source": [
    "selection_chi2_model()"
=======
   "execution_count": null,
   "id": "d2698681",
   "metadata": {},
   "outputs": [],
   "source": [
    "# over_sampling_random_model()"
>>>>>>> step_1
   ]
  },
  {
   "cell_type": "code",
<<<<<<< HEAD
   "execution_count": 15,
   "id": "9e67a6d3",
   "metadata": {},
   "outputs": [
    {
     "name": "stdout",
     "output_type": "stream",
     "text": [
      "Model 1 | training_accuracy : 1.0 | validation_accuracy : 0.8989923814204964\n",
      "Model 2 | training_accuracy : 0.8791913811887181 | validation_accuracy : 0.8783484885721308\n",
      "Model 3 | training_accuracy : 0.8475971432030021 | validation_accuracy : 0.845908085524699\n",
      "Model 4 | training_accuracy : 1.0 | validation_accuracy : 0.861145244531826\n",
      "\n",
      "Title : Random Forest Classifier\n",
      "              precision    recall  f1-score   support\n",
      "\n",
      "           0       0.92      0.96      0.94      3436\n",
      "           1       0.73      0.55      0.63       633\n",
      "\n",
      "    accuracy                           0.90      4069\n",
      "   macro avg       0.83      0.76      0.79      4069\n",
      "weighted avg       0.89      0.90      0.89      4069\n",
      "\n",
      "\n",
      "Title : Logistic Regression\n",
      "              precision    recall  f1-score   support\n",
      "\n",
      "           0       0.89      0.98      0.93      3436\n",
      "           1       0.74      0.34      0.46       633\n",
      "\n",
      "    accuracy                           0.88      4069\n",
      "   macro avg       0.81      0.66      0.70      4069\n",
      "weighted avg       0.87      0.88      0.86      4069\n",
      "\n",
      "\n",
      "Title : Support Vector Classifier\n",
      "              precision    recall  f1-score   support\n",
      "\n",
      "           0       0.85      1.00      0.92      3436\n",
      "           1       0.88      0.01      0.02       633\n",
      "\n",
      "    accuracy                           0.85      4069\n",
      "   macro avg       0.86      0.51      0.47      4069\n",
      "weighted avg       0.85      0.85      0.78      4069\n",
      "\n",
      "\n",
      "Title : Decision Tree Classifier\n",
      "              precision    recall  f1-score   support\n",
      "\n",
      "           0       0.92      0.92      0.92      3436\n",
      "           1       0.56      0.54      0.55       633\n",
      "\n",
      "    accuracy                           0.86      4069\n",
      "   macro avg       0.74      0.73      0.73      4069\n",
      "weighted avg       0.86      0.86      0.86      4069\n",
      "\n"
     ]
    }
   ],
   "source": [
    "selection_mutual_info_model()"
=======
   "execution_count": null,
   "id": "d3be31a1",
   "metadata": {},
   "outputs": [],
   "source": [
    "# over_sampling_adasyn_model()"
>>>>>>> step_1
   ]
  },
  {
   "cell_type": "code",
<<<<<<< HEAD
   "execution_count": 16,
   "id": "e2114b33",
   "metadata": {},
   "outputs": [
    {
     "name": "stdout",
     "output_type": "stream",
     "text": [
      "Model 1 | training_accuracy : 0.9998789492797482 | validation_accuracy : 0.8982550995330548\n",
      "Model 2 | training_accuracy : 0.8791913811887181 | validation_accuracy : 0.8783484885721308\n",
      "Model 3 | training_accuracy : 0.8475971432030021 | validation_accuracy : 0.845908085524699\n",
      "Model 4 | training_accuracy : 1.0 | validation_accuracy : 0.8608994839026788\n",
      "\n",
      "Title : Random Forest Classifier\n",
      "              precision    recall  f1-score   support\n",
      "\n",
      "           0       0.92      0.96      0.94      3436\n",
      "           1       0.73      0.55      0.63       633\n",
      "\n",
      "    accuracy                           0.90      4069\n",
      "   macro avg       0.82      0.76      0.78      4069\n",
      "weighted avg       0.89      0.90      0.89      4069\n",
      "\n",
      "\n",
      "Title : Logistic Regression\n",
      "              precision    recall  f1-score   support\n",
      "\n",
      "           0       0.89      0.98      0.93      3436\n",
      "           1       0.74      0.34      0.46       633\n",
      "\n",
      "    accuracy                           0.88      4069\n",
      "   macro avg       0.81      0.66      0.70      4069\n",
      "weighted avg       0.87      0.88      0.86      4069\n",
      "\n",
      "\n",
      "Title : Support Vector Classifier\n",
      "              precision    recall  f1-score   support\n",
      "\n",
      "           0       0.85      1.00      0.92      3436\n",
      "           1       0.88      0.01      0.02       633\n",
      "\n",
      "    accuracy                           0.85      4069\n",
      "   macro avg       0.86      0.51      0.47      4069\n",
      "weighted avg       0.85      0.85      0.78      4069\n",
      "\n",
      "\n",
      "Title : Decision Tree Classifier\n",
      "              precision    recall  f1-score   support\n",
      "\n",
      "           0       0.92      0.92      0.92      3436\n",
      "           1       0.55      0.55      0.55       633\n",
      "\n",
      "    accuracy                           0.86      4069\n",
      "   macro avg       0.74      0.74      0.74      4069\n",
      "weighted avg       0.86      0.86      0.86      4069\n",
      "\n"
     ]
    }
   ],
   "source": [
    "selection_variance_model()"
=======
   "execution_count": null,
   "id": "cfddc9d9",
   "metadata": {},
   "outputs": [],
   "source": [
    "# over_sampling_svmsmote_model()"
>>>>>>> step_1
   ]
  },
  {
   "cell_type": "code",
<<<<<<< HEAD
   "execution_count": 17,
   "id": "f157f2fa",
   "metadata": {},
   "outputs": [
    {
     "name": "stdout",
     "output_type": "stream",
     "text": [
      "Model 1 | training_accuracy : 0.9997578985594965 | validation_accuracy : 0.8992381420496437\n",
      "Model 2 | training_accuracy : 0.8791913811887181 | validation_accuracy : 0.8783484885721308\n",
      "Model 3 | training_accuracy : 0.8475971432030021 | validation_accuracy : 0.845908085524699\n",
      "Model 4 | training_accuracy : 1.0 | validation_accuracy : 0.8618825264192677\n",
      "\n",
      "Title : Random Forest Classifier\n",
      "              precision    recall  f1-score   support\n",
      "\n",
      "           0       0.92      0.96      0.94      3436\n",
      "           1       0.74      0.55      0.63       633\n",
      "\n",
      "    accuracy                           0.90      4069\n",
      "   macro avg       0.83      0.76      0.79      4069\n",
      "weighted avg       0.89      0.90      0.89      4069\n",
      "\n",
      "\n",
      "Title : Logistic Regression\n",
      "              precision    recall  f1-score   support\n",
      "\n",
      "           0       0.89      0.98      0.93      3436\n",
      "           1       0.74      0.34      0.46       633\n",
      "\n",
      "    accuracy                           0.88      4069\n",
      "   macro avg       0.81      0.66      0.70      4069\n",
      "weighted avg       0.87      0.88      0.86      4069\n",
      "\n",
      "\n",
      "Title : Support Vector Classifier\n",
      "              precision    recall  f1-score   support\n",
      "\n",
      "           0       0.85      1.00      0.92      3436\n",
      "           1       0.88      0.01      0.02       633\n",
      "\n",
      "    accuracy                           0.85      4069\n",
      "   macro avg       0.86      0.51      0.47      4069\n",
      "weighted avg       0.85      0.85      0.78      4069\n",
      "\n",
      "\n",
      "Title : Decision Tree Classifier\n",
      "              precision    recall  f1-score   support\n",
      "\n",
      "           0       0.92      0.92      0.92      3436\n",
      "           1       0.56      0.54      0.55       633\n",
      "\n",
      "    accuracy                           0.86      4069\n",
      "   macro avg       0.74      0.73      0.73      4069\n",
      "weighted avg       0.86      0.86      0.86      4069\n",
      "\n"
     ]
    }
   ],
   "source": [
    "selection_decision_tree_model()"
   ]
  },
  {
   "cell_type": "markdown",
   "id": "16200206",
   "metadata": {},
   "source": [
    "## Step 3"
=======
   "execution_count": null,
   "id": "3972f388",
   "metadata": {},
   "outputs": [],
   "source": [
    "# under_sampling_random_model()"
>>>>>>> step_1
   ]
  },
  {
   "cell_type": "code",
<<<<<<< HEAD
   "execution_count": 18,
   "id": "18df5387",
   "metadata": {},
   "outputs": [
    {
     "name": "stdout",
     "output_type": "stream",
     "text": [
      "Model 1 | training_accuracy : 1.0 | validation_accuracy : 0.8816088225754135\n",
      "Model 2 | training_accuracy : 0.8320771589167093 | validation_accuracy : 0.8725267596496918\n",
      "Model 3 | training_accuracy : 0.7309657639243741 | validation_accuracy : 0.7249432371067143\n",
      "Model 4 | training_accuracy : 1.0 | validation_accuracy : 0.8488485241647745\n",
      "\n",
      "Title : Random Forest Classifier\n",
      "              precision    recall  f1-score   support\n",
      "\n",
      "           0       0.95      0.91      0.93      2594\n",
      "           1       0.61      0.72      0.66       489\n",
      "\n",
      "    accuracy                           0.88      3083\n",
      "   macro avg       0.78      0.82      0.79      3083\n",
      "weighted avg       0.89      0.88      0.89      3083\n",
      "\n",
      "\n",
      "Title : Logistic Regression\n",
      "              precision    recall  f1-score   support\n",
      "\n",
      "           0       0.94      0.90      0.92      2594\n",
      "           1       0.58      0.70      0.64       489\n",
      "\n",
      "    accuracy                           0.87      3083\n",
      "   macro avg       0.76      0.80      0.78      3083\n",
      "weighted avg       0.88      0.87      0.88      3083\n",
      "\n",
      "\n",
      "Title : Support Vector Classifier\n",
      "              precision    recall  f1-score   support\n",
      "\n",
      "           0       0.94      0.72      0.82      2594\n",
      "           1       0.33      0.74      0.46       489\n",
      "\n",
      "    accuracy                           0.72      3083\n",
      "   macro avg       0.64      0.73      0.64      3083\n",
      "weighted avg       0.84      0.72      0.76      3083\n",
      "\n",
      "\n",
      "Title : Decision Tree Classifier\n",
      "              precision    recall  f1-score   support\n",
      "\n",
      "           0       0.93      0.89      0.91      2594\n",
      "           1       0.52      0.64      0.57       489\n",
      "\n",
      "    accuracy                           0.85      3083\n",
      "   macro avg       0.72      0.76      0.74      3083\n",
      "weighted avg       0.86      0.85      0.85      3083\n",
      "\n"
     ]
    }
   ],
   "source": [
    "over_sampling_smote_model()"
   ]
  },
  {
   "cell_type": "code",
   "execution_count": null,
   "id": "d2698681",
   "metadata": {},
   "outputs": [
    {
     "name": "stdout",
     "output_type": "stream",
     "text": [
      "Model 1 | training_accuracy : 1.0 | validation_accuracy : 0.892312682452157\n",
      "Model 2 | training_accuracy : 0.811765457332652 | validation_accuracy : 0.8734998378203049\n"
     ]
    }
   ],
   "source": [
    "over_sampling_random_model()"
   ]
  },
  {
   "cell_type": "code",
   "execution_count": null,
   "id": "d3be31a1",
   "metadata": {},
   "outputs": [],
   "source": [
    "over_sampling_adasyn_model()"
   ]
  },
  {
   "cell_type": "code",
   "execution_count": null,
   "id": "cfddc9d9",
   "metadata": {},
   "outputs": [],
   "source": [
    "over_sampling_svmsmote_model()"
   ]
  },
  {
   "cell_type": "code",
   "execution_count": null,
   "id": "3972f388",
   "metadata": {},
   "outputs": [],
   "source": [
    "under_sampling_random_model()"
   ]
  },
  {
   "cell_type": "code",
   "execution_count": null,
   "id": "9486d42c",
   "metadata": {},
   "outputs": [],
   "source": [
    "under_sampling_cluster_centroids_model()"
=======
   "execution_count": null,
   "id": "9486d42c",
   "metadata": {},
   "outputs": [],
   "source": [
    "# under_sampling_cluster_centroids_model()"
>>>>>>> step_1
   ]
  }
 ],
 "metadata": {
  "kernelspec": {
   "display_name": "Python 3",
   "language": "python",
   "name": "python3"
  },
  "language_info": {
   "codemirror_mode": {
    "name": "ipython",
    "version": 3
   },
   "file_extension": ".py",
   "mimetype": "text/x-python",
   "name": "python",
   "nbconvert_exporter": "python",
   "pygments_lexer": "ipython3",
   "version": "3.8.8"
  }
 },
 "nbformat": 4,
 "nbformat_minor": 5
}
