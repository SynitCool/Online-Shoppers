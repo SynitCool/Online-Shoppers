{
 "cells": [
  {
   "cell_type": "code",
   "execution_count": 20,
   "id": "f953adbe",
   "metadata": {},
   "outputs": [],
   "source": [
    "import matplotlib.pyplot as plt\n",
    "\n",
    "from cleaning.cleaning_data import read_data\n",
    "from model_testing.config import DATASET_PATH\n",
    "\n",
    "from plotting.plotting_data import plot_correlation\n",
    "\n",
    "from model_testing.step_1 import one_hot_object_columns\n",
    "from model_testing.step_1 import encode_object_columns\n",
    "from model_testing.step_1 import one_hot_categorical_columns\n",
    "from model_testing.step_1 import one_hot_all\n",
    "\n",
    "from model_testing.step_2 import selection_anova_model\n",
    "from model_testing.step_2 import selection_chi2_model\n",
    "from model_testing.step_2 import selection_mutual_info_model\n",
    "from model_testing.step_2 import selection_variance_model\n",
    "from model_testing.step_2 import selection_decision_tree_model\n",
    "\n",
    "from model_testing.step_3 import over_sampling_smote_model\n",
    "from model_testing.step_3 import over_sampling_random_model\n",
    "from model_testing.step_3 import over_sampling_adasyn_model\n",
    "from model_testing.step_3 import over_sampling_svmsmote_model\n",
    "from model_testing.step_3 import under_sampling_random_model\n",
    "from model_testing.step_3 import under_sampling_cluster_centroids_model"
   ]
  },
  {
   "cell_type": "markdown",
   "id": "f5b6e6b2",
   "metadata": {},
   "source": [
    "# Loading dataset"
   ]
  },
  {
   "cell_type": "code",
   "execution_count": 2,
   "id": "05250c3c",
   "metadata": {},
   "outputs": [
    {
     "data": {
      "text/html": [
       "<div>\n",
       "<style scoped>\n",
       "    .dataframe tbody tr th:only-of-type {\n",
       "        vertical-align: middle;\n",
       "    }\n",
       "\n",
       "    .dataframe tbody tr th {\n",
       "        vertical-align: top;\n",
       "    }\n",
       "\n",
       "    .dataframe thead th {\n",
       "        text-align: right;\n",
       "    }\n",
       "</style>\n",
       "<table border=\"1\" class=\"dataframe\">\n",
       "  <thead>\n",
       "    <tr style=\"text-align: right;\">\n",
       "      <th></th>\n",
       "      <th>Administrative</th>\n",
       "      <th>Administrative_Duration</th>\n",
       "      <th>Informational</th>\n",
       "      <th>Informational_Duration</th>\n",
       "      <th>ProductRelated</th>\n",
       "      <th>ProductRelated_Duration</th>\n",
       "      <th>BounceRates</th>\n",
       "      <th>ExitRates</th>\n",
       "      <th>PageValues</th>\n",
       "      <th>SpecialDay</th>\n",
       "      <th>Month</th>\n",
       "      <th>OperatingSystems</th>\n",
       "      <th>Browser</th>\n",
       "      <th>Region</th>\n",
       "      <th>TrafficType</th>\n",
       "      <th>VisitorType</th>\n",
       "      <th>Weekend</th>\n",
       "      <th>Revenue</th>\n",
       "    </tr>\n",
       "  </thead>\n",
       "  <tbody>\n",
       "    <tr>\n",
       "      <th>0</th>\n",
       "      <td>0</td>\n",
       "      <td>0.0</td>\n",
       "      <td>0</td>\n",
       "      <td>0.0</td>\n",
       "      <td>1</td>\n",
       "      <td>0.000000</td>\n",
       "      <td>0.20</td>\n",
       "      <td>0.20</td>\n",
       "      <td>0.0</td>\n",
       "      <td>0.0</td>\n",
       "      <td>Feb</td>\n",
       "      <td>1</td>\n",
       "      <td>1</td>\n",
       "      <td>1</td>\n",
       "      <td>1</td>\n",
       "      <td>Returning_Visitor</td>\n",
       "      <td>False</td>\n",
       "      <td>False</td>\n",
       "    </tr>\n",
       "    <tr>\n",
       "      <th>1</th>\n",
       "      <td>0</td>\n",
       "      <td>0.0</td>\n",
       "      <td>0</td>\n",
       "      <td>0.0</td>\n",
       "      <td>2</td>\n",
       "      <td>64.000000</td>\n",
       "      <td>0.00</td>\n",
       "      <td>0.10</td>\n",
       "      <td>0.0</td>\n",
       "      <td>0.0</td>\n",
       "      <td>Feb</td>\n",
       "      <td>2</td>\n",
       "      <td>2</td>\n",
       "      <td>1</td>\n",
       "      <td>2</td>\n",
       "      <td>Returning_Visitor</td>\n",
       "      <td>False</td>\n",
       "      <td>False</td>\n",
       "    </tr>\n",
       "    <tr>\n",
       "      <th>2</th>\n",
       "      <td>0</td>\n",
       "      <td>0.0</td>\n",
       "      <td>0</td>\n",
       "      <td>0.0</td>\n",
       "      <td>1</td>\n",
       "      <td>0.000000</td>\n",
       "      <td>0.20</td>\n",
       "      <td>0.20</td>\n",
       "      <td>0.0</td>\n",
       "      <td>0.0</td>\n",
       "      <td>Feb</td>\n",
       "      <td>4</td>\n",
       "      <td>1</td>\n",
       "      <td>9</td>\n",
       "      <td>3</td>\n",
       "      <td>Returning_Visitor</td>\n",
       "      <td>False</td>\n",
       "      <td>False</td>\n",
       "    </tr>\n",
       "    <tr>\n",
       "      <th>3</th>\n",
       "      <td>0</td>\n",
       "      <td>0.0</td>\n",
       "      <td>0</td>\n",
       "      <td>0.0</td>\n",
       "      <td>2</td>\n",
       "      <td>2.666667</td>\n",
       "      <td>0.05</td>\n",
       "      <td>0.14</td>\n",
       "      <td>0.0</td>\n",
       "      <td>0.0</td>\n",
       "      <td>Feb</td>\n",
       "      <td>3</td>\n",
       "      <td>2</td>\n",
       "      <td>2</td>\n",
       "      <td>4</td>\n",
       "      <td>Returning_Visitor</td>\n",
       "      <td>False</td>\n",
       "      <td>False</td>\n",
       "    </tr>\n",
       "    <tr>\n",
       "      <th>4</th>\n",
       "      <td>0</td>\n",
       "      <td>0.0</td>\n",
       "      <td>0</td>\n",
       "      <td>0.0</td>\n",
       "      <td>10</td>\n",
       "      <td>627.500000</td>\n",
       "      <td>0.02</td>\n",
       "      <td>0.05</td>\n",
       "      <td>0.0</td>\n",
       "      <td>0.0</td>\n",
       "      <td>Feb</td>\n",
       "      <td>3</td>\n",
       "      <td>3</td>\n",
       "      <td>1</td>\n",
       "      <td>4</td>\n",
       "      <td>Returning_Visitor</td>\n",
       "      <td>True</td>\n",
       "      <td>False</td>\n",
       "    </tr>\n",
       "  </tbody>\n",
       "</table>\n",
       "</div>"
      ],
      "text/plain": [
       "   Administrative  Administrative_Duration  Informational  \\\n",
       "0               0                      0.0              0   \n",
       "1               0                      0.0              0   \n",
       "2               0                      0.0              0   \n",
       "3               0                      0.0              0   \n",
       "4               0                      0.0              0   \n",
       "\n",
       "   Informational_Duration  ProductRelated  ProductRelated_Duration  \\\n",
       "0                     0.0               1                 0.000000   \n",
       "1                     0.0               2                64.000000   \n",
       "2                     0.0               1                 0.000000   \n",
       "3                     0.0               2                 2.666667   \n",
       "4                     0.0              10               627.500000   \n",
       "\n",
       "   BounceRates  ExitRates  PageValues  SpecialDay Month  OperatingSystems  \\\n",
       "0         0.20       0.20         0.0         0.0   Feb                 1   \n",
       "1         0.00       0.10         0.0         0.0   Feb                 2   \n",
       "2         0.20       0.20         0.0         0.0   Feb                 4   \n",
       "3         0.05       0.14         0.0         0.0   Feb                 3   \n",
       "4         0.02       0.05         0.0         0.0   Feb                 3   \n",
       "\n",
       "   Browser  Region  TrafficType        VisitorType  Weekend  Revenue  \n",
       "0        1       1            1  Returning_Visitor    False    False  \n",
       "1        2       1            2  Returning_Visitor    False    False  \n",
       "2        1       9            3  Returning_Visitor    False    False  \n",
       "3        2       2            4  Returning_Visitor    False    False  \n",
       "4        3       1            4  Returning_Visitor     True    False  "
      ]
     },
     "execution_count": 2,
     "metadata": {},
     "output_type": "execute_result"
    }
   ],
   "source": [
    "df = read_data(DATASET_PATH)\n",
    "\n",
    "df.head()"
   ]
  },
  {
   "cell_type": "code",
   "execution_count": 3,
   "id": "0a307ead",
   "metadata": {},
   "outputs": [
    {
     "name": "stdout",
     "output_type": "stream",
     "text": [
      "<class 'pandas.core.frame.DataFrame'>\n",
      "RangeIndex: 12330 entries, 0 to 12329\n",
      "Data columns (total 18 columns):\n",
      " #   Column                   Non-Null Count  Dtype  \n",
      "---  ------                   --------------  -----  \n",
      " 0   Administrative           12330 non-null  int64  \n",
      " 1   Administrative_Duration  12330 non-null  float64\n",
      " 2   Informational            12330 non-null  int64  \n",
      " 3   Informational_Duration   12330 non-null  float64\n",
      " 4   ProductRelated           12330 non-null  int64  \n",
      " 5   ProductRelated_Duration  12330 non-null  float64\n",
      " 6   BounceRates              12330 non-null  float64\n",
      " 7   ExitRates                12330 non-null  float64\n",
      " 8   PageValues               12330 non-null  float64\n",
      " 9   SpecialDay               12330 non-null  float64\n",
      " 10  Month                    12330 non-null  object \n",
      " 11  OperatingSystems         12330 non-null  int64  \n",
      " 12  Browser                  12330 non-null  int64  \n",
      " 13  Region                   12330 non-null  int64  \n",
      " 14  TrafficType              12330 non-null  int64  \n",
      " 15  VisitorType              12330 non-null  object \n",
      " 16  Weekend                  12330 non-null  bool   \n",
      " 17  Revenue                  12330 non-null  bool   \n",
      "dtypes: bool(2), float64(7), int64(7), object(2)\n",
      "memory usage: 1.5+ MB\n"
     ]
    }
   ],
   "source": [
    "df.info()"
   ]
  },
  {
   "cell_type": "code",
   "execution_count": 4,
   "id": "97d75072",
   "metadata": {},
   "outputs": [
    {
     "data": {
      "image/png": "[encoded data removed]",
      "text/plain": [
       "<Figure size 720x504 with 2 Axes>"
      ]
     },
     "metadata": {
      "needs_background": "light"
     },
     "output_type": "display_data"
    }
   ],
   "source": [
    "plt.subplots(figsize=(10, 7))\n",
    "\n",
    "plot_correlation(df)"
   ]
  },
  {
   "cell_type": "markdown",
   "id": "3645bab9",
   "metadata": {},
   "source": [
    "# Testing Model"
   ]
  },
  {
   "cell_type": "markdown",
   "id": "b0a2948c",
   "metadata": {},
   "source": [
    "## Step 1"
   ]
  },
  {
   "cell_type": "code",
   "execution_count": 5,
   "id": "38c1eae8",
   "metadata": {},
   "outputs": [],
   "source": [
    "# encode_object_columns()"
   ]
  },
  {
   "cell_type": "code",
   "execution_count": 6,
   "id": "e8da0153",
   "metadata": {},
   "outputs": [],
   "source": [
    "# one_hot_object_columns()"
   ]
  },
  {
   "cell_type": "code",
   "execution_count": 7,
   "id": "ddc36128",
   "metadata": {},
   "outputs": [],
   "source": [
    "# one_hot_categorical_columns()"
   ]
  },
  {
   "cell_type": "code",
   "execution_count": 8,
   "id": "45ab5da5",
   "metadata": {},
   "outputs": [],
   "source": [
    "# one_hot_all()"
   ]
  },
  {
   "cell_type": "markdown",
   "id": "9efa2411",
   "metadata": {},
   "source": [
    "## Step 2"
   ]
  },
  {
   "cell_type": "code",
   "execution_count": 9,
   "id": "7dce135d",
   "metadata": {},
   "outputs": [],
   "source": [
    "# selection_anova_model()"
   ]
  },
  {
   "cell_type": "code",
   "execution_count": 10,
   "id": "595fb0ae",
   "metadata": {},
   "outputs": [],
   "source": [
    "# selection_chi2_model()"
   ]
  },
  {
   "cell_type": "code",
   "execution_count": 11,
   "id": "9e67a6d3",
   "metadata": {},
   "outputs": [],
   "source": [
    "# selection_mutual_info_model()"
   ]
  },
  {
   "cell_type": "code",
   "execution_count": 12,
   "id": "e2114b33",
   "metadata": {},
   "outputs": [],
   "source": [
    "# selection_variance_model()"
   ]
  },
  {
   "cell_type": "code",
   "execution_count": 13,
   "id": "f157f2fa",
   "metadata": {},
   "outputs": [],
   "source": [
    "# selection_decision_tree_model()"
   ]
  },
  {
   "cell_type": "markdown",
   "id": "16200206",
   "metadata": {},
   "source": [
    "## Step 3"
   ]
  },
  {
   "cell_type": "code",
   "execution_count": 14,
   "id": "18df5387",
   "metadata": {},
   "outputs": [
    {
     "name": "stdout",
     "output_type": "stream",
     "text": [
      "Model 1 | training_accuracy : 1.0 | validation_accuracy : 0.8799870256243918\n",
      "Model 2 | training_accuracy : 0.8320771589167093 | validation_accuracy : 0.8725267596496918\n",
      "Model 3 | training_accuracy : 0.7309657639243741 | validation_accuracy : 0.7249432371067143\n",
      "Model 4 | training_accuracy : 1.0 | validation_accuracy : 0.8446318520921181\n",
      "\n",
      "Title : Random Forest Classifier\n",
      "              precision    recall  f1-score   support\n",
      "\n",
      "           0       0.95      0.91      0.93      2594\n",
      "           1       0.60      0.72      0.66       489\n",
      "\n",
      "    accuracy                           0.88      3083\n",
      "   macro avg       0.77      0.82      0.79      3083\n",
      "weighted avg       0.89      0.88      0.88      3083\n",
      "\n",
      "\n",
      "Title : Logistic Regression\n",
      "              precision    recall  f1-score   support\n",
      "\n",
      "           0       0.94      0.90      0.92      2594\n",
      "           1       0.58      0.70      0.64       489\n",
      "\n",
      "    accuracy                           0.87      3083\n",
      "   macro avg       0.76      0.80      0.78      3083\n",
      "weighted avg       0.88      0.87      0.88      3083\n",
      "\n",
      "\n",
      "Title : Support Vector Classifier\n",
      "              precision    recall  f1-score   support\n",
      "\n",
      "           0       0.94      0.72      0.82      2594\n",
      "           1       0.33      0.74      0.46       489\n",
      "\n",
      "    accuracy                           0.72      3083\n",
      "   macro avg       0.64      0.73      0.64      3083\n",
      "weighted avg       0.84      0.72      0.76      3083\n",
      "\n",
      "\n",
      "Title : Decision Tree Classifier\n",
      "              precision    recall  f1-score   support\n",
      "\n",
      "           0       0.92      0.89      0.91      2594\n",
      "           1       0.51      0.60      0.55       489\n",
      "\n",
      "    accuracy                           0.84      3083\n",
      "   macro avg       0.72      0.75      0.73      3083\n",
      "weighted avg       0.86      0.84      0.85      3083\n",
      "\n"
     ]
    }
   ],
   "source": [
    "over_sampling_smote_model()"
   ]
  },
  {
   "cell_type": "code",
   "execution_count": 15,
   "id": "d2698681",
   "metadata": {},
   "outputs": [
    {
     "name": "stdout",
     "output_type": "stream",
     "text": [
      "Model 1 | training_accuracy : 1.0 | validation_accuracy : 0.8945831981835874\n",
      "Model 2 | training_accuracy : 0.811765457332652 | validation_accuracy : 0.8734998378203049\n",
      "Model 3 | training_accuracy : 0.7248978027593255 | validation_accuracy : 0.7392150502757054\n",
      "Model 4 | training_accuracy : 1.0 | validation_accuracy : 0.8611741809925397\n",
      "\n",
      "Title : Random Forest Classifier\n",
      "              precision    recall  f1-score   support\n",
      "\n",
      "           0       0.93      0.94      0.94      2594\n",
      "           1       0.67      0.65      0.66       489\n",
      "\n",
      "    accuracy                           0.89      3083\n",
      "   macro avg       0.80      0.80      0.80      3083\n",
      "weighted avg       0.89      0.89      0.89      3083\n",
      "\n",
      "\n",
      "Title : Logistic Regression\n",
      "              precision    recall  f1-score   support\n",
      "\n",
      "           0       0.95      0.90      0.92      2594\n",
      "           1       0.58      0.74      0.65       489\n",
      "\n",
      "    accuracy                           0.87      3083\n",
      "   macro avg       0.76      0.82      0.79      3083\n",
      "weighted avg       0.89      0.87      0.88      3083\n",
      "\n",
      "\n",
      "Title : Support Vector Classifier\n",
      "              precision    recall  f1-score   support\n",
      "\n",
      "           0       0.94      0.74      0.83      2594\n",
      "           1       0.35      0.74      0.48       489\n",
      "\n",
      "    accuracy                           0.74      3083\n",
      "   macro avg       0.64      0.74      0.65      3083\n",
      "weighted avg       0.85      0.74      0.77      3083\n",
      "\n",
      "\n",
      "Title : Decision Tree Classifier\n",
      "              precision    recall  f1-score   support\n",
      "\n",
      "           0       0.91      0.92      0.92      2594\n",
      "           1       0.57      0.53      0.55       489\n",
      "\n",
      "    accuracy                           0.86      3083\n",
      "   macro avg       0.74      0.73      0.73      3083\n",
      "weighted avg       0.86      0.86      0.86      3083\n",
      "\n"
     ]
    }
   ],
   "source": [
    "over_sampling_random_model()"
   ]
  },
  {
   "cell_type": "code",
   "execution_count": 16,
   "id": "d3be31a1",
   "metadata": {},
   "outputs": [
    {
     "name": "stdout",
     "output_type": "stream",
     "text": [
      "Model 1 | training_accuracy : 1.0 | validation_accuracy : 0.8825819007460266\n",
      "Model 2 | training_accuracy : 0.8205621871390065 | validation_accuracy : 0.8644177748945832\n",
      "Model 3 | training_accuracy : 0.6939417276344501 | validation_accuracy : 0.6808303600389232\n",
      "Model 4 | training_accuracy : 1.0 | validation_accuracy : 0.843658773921505\n",
      "\n",
      "Title : Random Forest Classifier\n",
      "              precision    recall  f1-score   support\n",
      "\n",
      "           0       0.95      0.91      0.93      2594\n",
      "           1       0.61      0.73      0.66       489\n",
      "\n",
      "    accuracy                           0.88      3083\n",
      "   macro avg       0.78      0.82      0.80      3083\n",
      "weighted avg       0.89      0.88      0.89      3083\n",
      "\n",
      "\n",
      "Title : Logistic Regression\n",
      "              precision    recall  f1-score   support\n",
      "\n",
      "           0       0.95      0.89      0.92      2594\n",
      "           1       0.55      0.74      0.63       489\n",
      "\n",
      "    accuracy                           0.86      3083\n",
      "   macro avg       0.75      0.81      0.78      3083\n",
      "weighted avg       0.89      0.86      0.87      3083\n",
      "\n",
      "\n",
      "Title : Support Vector Classifier\n",
      "              precision    recall  f1-score   support\n",
      "\n",
      "           0       0.94      0.66      0.78      2594\n",
      "           1       0.30      0.77      0.43       489\n",
      "\n",
      "    accuracy                           0.68      3083\n",
      "   macro avg       0.62      0.72      0.61      3083\n",
      "weighted avg       0.84      0.68      0.72      3083\n",
      "\n",
      "\n",
      "Title : Decision Tree Classifier\n",
      "              precision    recall  f1-score   support\n",
      "\n",
      "           0       0.93      0.88      0.90      2594\n",
      "           1       0.51      0.64      0.56       489\n",
      "\n",
      "    accuracy                           0.84      3083\n",
      "   macro avg       0.72      0.76      0.73      3083\n",
      "weighted avg       0.86      0.84      0.85      3083\n",
      "\n"
     ]
    }
   ],
   "source": [
    "over_sampling_adasyn_model()"
   ]
  },
  {
   "cell_type": "code",
   "execution_count": 17,
   "id": "cfddc9d9",
   "metadata": {},
   "outputs": [
    {
     "name": "stdout",
     "output_type": "stream",
     "text": [
      "Model 1 | training_accuracy : 1.0 | validation_accuracy : 0.8809601037950049\n",
      "Model 2 | training_accuracy : 0.8633111905978539 | validation_accuracy : 0.8725267596496918\n",
      "Model 3 | training_accuracy : 0.7901762902401636 | validation_accuracy : 0.8066818034382095\n",
      "Model 4 | training_accuracy : 1.0 | validation_accuracy : 0.8517677586766137\n",
      "\n",
      "Title : Random Forest Classifier\n",
      "              precision    recall  f1-score   support\n",
      "\n",
      "           0       0.95      0.91      0.93      2594\n",
      "           1       0.60      0.73      0.66       489\n",
      "\n",
      "    accuracy                           0.88      3083\n",
      "   macro avg       0.78      0.82      0.79      3083\n",
      "weighted avg       0.89      0.88      0.89      3083\n",
      "\n",
      "\n",
      "Title : Logistic Regression\n",
      "              precision    recall  f1-score   support\n",
      "\n",
      "           0       0.94      0.91      0.92      2594\n",
      "           1       0.59      0.66      0.62       489\n",
      "\n",
      "    accuracy                           0.87      3083\n",
      "   macro avg       0.76      0.79      0.77      3083\n",
      "weighted avg       0.88      0.87      0.88      3083\n",
      "\n",
      "\n",
      "Title : Support Vector Classifier\n",
      "              precision    recall  f1-score   support\n",
      "\n",
      "           0       0.92      0.85      0.88      2594\n",
      "           1       0.42      0.60      0.50       489\n",
      "\n",
      "    accuracy                           0.81      3083\n",
      "   macro avg       0.67      0.72      0.69      3083\n",
      "weighted avg       0.84      0.81      0.82      3083\n",
      "\n",
      "\n",
      "Title : Decision Tree Classifier\n",
      "              precision    recall  f1-score   support\n",
      "\n",
      "           0       0.93      0.89      0.91      2594\n",
      "           1       0.53      0.65      0.58       489\n",
      "\n",
      "    accuracy                           0.85      3083\n",
      "   macro avg       0.73      0.77      0.75      3083\n",
      "weighted avg       0.87      0.85      0.86      3083\n",
      "\n"
     ]
    }
   ],
   "source": [
    "over_sampling_svmsmote_model()"
   ]
  },
  {
   "cell_type": "code",
   "execution_count": 18,
   "id": "3972f388",
   "metadata": {},
   "outputs": [
    {
     "name": "stdout",
     "output_type": "stream",
     "text": [
      "Model 1 | training_accuracy : 1.0 | validation_accuracy : 0.8517677586766137\n",
      "Model 2 | training_accuracy : 0.8269908386187456 | validation_accuracy : 0.8683100875770353\n",
      "Model 3 | training_accuracy : 0.657152924594785 | validation_accuracy : 0.5939020434641583\n",
      "Model 4 | training_accuracy : 1.0 | validation_accuracy : 0.8053843658773921\n",
      "\n",
      "Title : Random Forest Classifier\n",
      "              precision    recall  f1-score   support\n",
      "\n",
      "           0       0.97      0.85      0.91      2594\n",
      "           1       0.52      0.84      0.64       489\n",
      "\n",
      "    accuracy                           0.85      3083\n",
      "   macro avg       0.74      0.85      0.78      3083\n",
      "weighted avg       0.90      0.85      0.86      3083\n",
      "\n",
      "\n",
      "Title : Logistic Regression\n",
      "              precision    recall  f1-score   support\n",
      "\n",
      "           0       0.95      0.89      0.92      2594\n",
      "           1       0.56      0.76      0.65       489\n",
      "\n",
      "    accuracy                           0.87      3083\n",
      "   macro avg       0.76      0.83      0.78      3083\n",
      "weighted avg       0.89      0.87      0.88      3083\n",
      "\n",
      "\n",
      "Title : Support Vector Classifier\n",
      "              precision    recall  f1-score   support\n",
      "\n",
      "           0       0.93      0.56      0.70      2594\n",
      "           1       0.25      0.77      0.38       489\n",
      "\n",
      "    accuracy                           0.59      3083\n",
      "   macro avg       0.59      0.66      0.54      3083\n",
      "weighted avg       0.82      0.59      0.65      3083\n",
      "\n",
      "\n",
      "Title : Decision Tree Classifier\n",
      "              precision    recall  f1-score   support\n",
      "\n",
      "           0       0.95      0.81      0.87      2594\n",
      "           1       0.44      0.80      0.56       489\n",
      "\n",
      "    accuracy                           0.81      3083\n",
      "   macro avg       0.70      0.80      0.72      3083\n",
      "weighted avg       0.87      0.81      0.83      3083\n",
      "\n"
     ]
    }
   ],
   "source": [
    "under_sampling_random_model()"
   ]
  },
  {
   "cell_type": "code",
   "execution_count": 21,
   "id": "9486d42c",
   "metadata": {},
   "outputs": [
    {
     "name": "stdout",
     "output_type": "stream",
     "text": [
      "Model 1 | training_accuracy : 1.0 | validation_accuracy : 0.4119364255595199\n",
      "Model 2 | training_accuracy : 0.7917547568710359 | validation_accuracy : 0.5595199481024976\n",
      "Model 3 | training_accuracy : 0.6536293164200141 | validation_accuracy : 0.24067466753162503\n",
      "Model 4 | training_accuracy : 1.0 | validation_accuracy : 0.4725916315277327\n",
      "\n",
      "Title : Random Forest Classifier\n",
      "              precision    recall  f1-score   support\n",
      "\n",
      "           0       0.90      0.34      0.49      2594\n",
      "           1       0.19      0.81      0.30       489\n",
      "\n",
      "    accuracy                           0.41      3083\n",
      "   macro avg       0.55      0.57      0.40      3083\n",
      "weighted avg       0.79      0.41      0.46      3083\n",
      "\n",
      "\n",
      "Title : Logistic Regression\n",
      "              precision    recall  f1-score   support\n",
      "\n",
      "           0       0.90      0.53      0.67      2594\n",
      "           1       0.22      0.70      0.34       489\n",
      "\n",
      "    accuracy                           0.56      3083\n",
      "   macro avg       0.56      0.62      0.50      3083\n",
      "weighted avg       0.80      0.56      0.62      3083\n",
      "\n",
      "\n",
      "Title : Support Vector Classifier\n",
      "              precision    recall  f1-score   support\n",
      "\n",
      "           0       0.72      0.16      0.26      2594\n",
      "           1       0.13      0.67      0.22       489\n",
      "\n",
      "    accuracy                           0.24      3083\n",
      "   macro avg       0.43      0.42      0.24      3083\n",
      "weighted avg       0.63      0.24      0.25      3083\n",
      "\n",
      "\n",
      "Title : Decision Tree Classifier\n",
      "              precision    recall  f1-score   support\n",
      "\n",
      "           0       0.92      0.41      0.57      2594\n",
      "           1       0.21      0.81      0.33       489\n",
      "\n",
      "    accuracy                           0.47      3083\n",
      "   macro avg       0.56      0.61      0.45      3083\n",
      "weighted avg       0.81      0.47      0.53      3083\n",
      "\n"
     ]
    }
   ],
   "source": [
    "under_sampling_cluster_centroids_model()"
   ]
  }
 ],
 "metadata": {
  "kernelspec": {
   "display_name": "Python 3",
   "language": "python",
   "name": "python3"
  },
  "language_info": {
   "codemirror_mode": {
    "name": "ipython",
    "version": 3
   },
   "file_extension": ".py",
   "mimetype": "text/x-python",
   "name": "python",
   "nbconvert_exporter": "python",
   "pygments_lexer": "ipython3",
   "version": "3.8.8"
  }
 },
 "nbformat": 4,
 "nbformat_minor": 5
}
