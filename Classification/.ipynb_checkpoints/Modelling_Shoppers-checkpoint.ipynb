{
 "cells": [
  {
   "cell_type": "code",
   "execution_count": 78,
   "metadata": {
    "id": "CQUc2yc2lllS"
   },
   "outputs": [],
   "source": [
    "import pandas as pd\n",
    "import numpy as np\n",
    "\n",
    "import matplotlib.pyplot as plt\n",
    "import seaborn as sns\n",
    "\n",
    "from sklearn.ensemble import RandomForestClassifier\n",
    "from sklearn.svm import SVC\n",
    "from sklearn.metrics import roc_curve, auc, roc_auc_score\n",
    "from sklearn.naive_bayes import GaussianNB\n",
    "from sklearn.model_selection import StratifiedKFold, train_test_split\n",
    "from sklearn.model_selection import train_test_split\n",
    "from sklearn.preprocessing import LabelEncoder"
   ]
  },
  {
   "cell_type": "code",
   "execution_count": 79,
   "metadata": {
    "colab": {
     "base_uri": "https://localhost:8080/",
     "height": 309
    },
    "id": "x9DqvA4Xllll",
    "outputId": "a1dca59e-e3d4-481b-d5cc-3fe419699e01"
   },
   "outputs": [
    {
     "data": {
      "text/html": [
       "<div>\n",
       "<style scoped>\n",
       "    .dataframe tbody tr th:only-of-type {\n",
       "        vertical-align: middle;\n",
       "    }\n",
       "\n",
       "    .dataframe tbody tr th {\n",
       "        vertical-align: top;\n",
       "    }\n",
       "\n",
       "    .dataframe thead th {\n",
       "        text-align: right;\n",
       "    }\n",
       "</style>\n",
       "<table border=\"1\" class=\"dataframe\">\n",
       "  <thead>\n",
       "    <tr style=\"text-align: right;\">\n",
       "      <th></th>\n",
       "      <th>Administrative</th>\n",
       "      <th>Administrative_Duration</th>\n",
       "      <th>Informational</th>\n",
       "      <th>Informational_Duration</th>\n",
       "      <th>ProductRelated</th>\n",
       "      <th>ProductRelated_Duration</th>\n",
       "      <th>BounceRates</th>\n",
       "      <th>ExitRates</th>\n",
       "      <th>PageValues</th>\n",
       "      <th>SpecialDay</th>\n",
       "      <th>Month</th>\n",
       "      <th>OperatingSystems</th>\n",
       "      <th>Browser</th>\n",
       "      <th>Region</th>\n",
       "      <th>TrafficType</th>\n",
       "      <th>VisitorType</th>\n",
       "      <th>Weekend</th>\n",
       "      <th>Revenue</th>\n",
       "      <th>DislikeRates</th>\n",
       "      <th>TimeSpent</th>\n",
       "    </tr>\n",
       "  </thead>\n",
       "  <tbody>\n",
       "    <tr>\n",
       "      <th>0</th>\n",
       "      <td>(-0.001, 1.0]</td>\n",
       "      <td>0.0</td>\n",
       "      <td>(-0.001, 2.0]</td>\n",
       "      <td>0.0</td>\n",
       "      <td>(-0.001, 1.0]</td>\n",
       "      <td>0.000000</td>\n",
       "      <td>0.20</td>\n",
       "      <td>0.20</td>\n",
       "      <td>0.0</td>\n",
       "      <td>0.0</td>\n",
       "      <td>Feb</td>\n",
       "      <td>(0.999, 2.0]</td>\n",
       "      <td>(0.999, 2.0]</td>\n",
       "      <td>(0.999, 3.0]</td>\n",
       "      <td>(0.999, 2.0]</td>\n",
       "      <td>Returning_Visitor</td>\n",
       "      <td>False</td>\n",
       "      <td>False</td>\n",
       "      <td>100.0</td>\n",
       "      <td>0.000000</td>\n",
       "    </tr>\n",
       "    <tr>\n",
       "      <th>1</th>\n",
       "      <td>(-0.001, 1.0]</td>\n",
       "      <td>0.0</td>\n",
       "      <td>(-0.001, 2.0]</td>\n",
       "      <td>0.0</td>\n",
       "      <td>(1.0, 2.0]</td>\n",
       "      <td>64.000000</td>\n",
       "      <td>0.00</td>\n",
       "      <td>0.10</td>\n",
       "      <td>0.0</td>\n",
       "      <td>0.0</td>\n",
       "      <td>Feb</td>\n",
       "      <td>(0.999, 2.0]</td>\n",
       "      <td>(0.999, 2.0]</td>\n",
       "      <td>(0.999, 3.0]</td>\n",
       "      <td>(0.999, 2.0]</td>\n",
       "      <td>Returning_Visitor</td>\n",
       "      <td>False</td>\n",
       "      <td>False</td>\n",
       "      <td>25.0</td>\n",
       "      <td>64.000000</td>\n",
       "    </tr>\n",
       "    <tr>\n",
       "      <th>2</th>\n",
       "      <td>(-0.001, 1.0]</td>\n",
       "      <td>0.0</td>\n",
       "      <td>(-0.001, 2.0]</td>\n",
       "      <td>0.0</td>\n",
       "      <td>(-0.001, 1.0]</td>\n",
       "      <td>0.000000</td>\n",
       "      <td>0.20</td>\n",
       "      <td>0.20</td>\n",
       "      <td>0.0</td>\n",
       "      <td>0.0</td>\n",
       "      <td>Feb</td>\n",
       "      <td>(2.0, 8.0]</td>\n",
       "      <td>(0.999, 2.0]</td>\n",
       "      <td>(3.0, 9.0]</td>\n",
       "      <td>(2.0, 3.0]</td>\n",
       "      <td>Returning_Visitor</td>\n",
       "      <td>False</td>\n",
       "      <td>False</td>\n",
       "      <td>100.0</td>\n",
       "      <td>0.000000</td>\n",
       "    </tr>\n",
       "    <tr>\n",
       "      <th>3</th>\n",
       "      <td>(-0.001, 1.0]</td>\n",
       "      <td>0.0</td>\n",
       "      <td>(-0.001, 2.0]</td>\n",
       "      <td>0.0</td>\n",
       "      <td>(1.0, 2.0]</td>\n",
       "      <td>2.666667</td>\n",
       "      <td>0.05</td>\n",
       "      <td>0.14</td>\n",
       "      <td>0.0</td>\n",
       "      <td>0.0</td>\n",
       "      <td>Feb</td>\n",
       "      <td>(2.0, 8.0]</td>\n",
       "      <td>(0.999, 2.0]</td>\n",
       "      <td>(0.999, 3.0]</td>\n",
       "      <td>(3.0, 20.0]</td>\n",
       "      <td>Returning_Visitor</td>\n",
       "      <td>False</td>\n",
       "      <td>False</td>\n",
       "      <td>47.5</td>\n",
       "      <td>2.666667</td>\n",
       "    </tr>\n",
       "    <tr>\n",
       "      <th>4</th>\n",
       "      <td>(-0.001, 1.0]</td>\n",
       "      <td>0.0</td>\n",
       "      <td>(-0.001, 2.0]</td>\n",
       "      <td>0.0</td>\n",
       "      <td>(9.0, 10.0]</td>\n",
       "      <td>627.500000</td>\n",
       "      <td>0.02</td>\n",
       "      <td>0.05</td>\n",
       "      <td>0.0</td>\n",
       "      <td>0.0</td>\n",
       "      <td>Feb</td>\n",
       "      <td>(2.0, 8.0]</td>\n",
       "      <td>(2.0, 13.0]</td>\n",
       "      <td>(0.999, 3.0]</td>\n",
       "      <td>(3.0, 20.0]</td>\n",
       "      <td>Returning_Visitor</td>\n",
       "      <td>True</td>\n",
       "      <td>False</td>\n",
       "      <td>17.5</td>\n",
       "      <td>627.500000</td>\n",
       "    </tr>\n",
       "  </tbody>\n",
       "</table>\n",
       "</div>"
      ],
      "text/plain": [
       "  Administrative  Administrative_Duration  ... DislikeRates   TimeSpent\n",
       "0  (-0.001, 1.0]                      0.0  ...        100.0    0.000000\n",
       "1  (-0.001, 1.0]                      0.0  ...         25.0   64.000000\n",
       "2  (-0.001, 1.0]                      0.0  ...        100.0    0.000000\n",
       "3  (-0.001, 1.0]                      0.0  ...         47.5    2.666667\n",
       "4  (-0.001, 1.0]                      0.0  ...         17.5  627.500000\n",
       "\n",
       "[5 rows x 20 columns]"
      ]
     },
     "execution_count": 79,
     "metadata": {
      "tags": []
     },
     "output_type": "execute_result"
    }
   ],
   "source": [
    "# Online Shopper\\Classification\\Dataset\\Engineered\\online_shoppers_intention_Engineered.csv\n",
    "\n",
    "df = pd.read_csv(\"online_shoppers_intention_Engineered.csv\")\n",
    "\n",
    "df.head()"
   ]
  },
  {
   "cell_type": "code",
   "execution_count": 80,
   "metadata": {
    "colab": {
     "base_uri": "https://localhost:8080/",
     "height": 309
    },
    "id": "EjIjtTSelllq",
    "outputId": "455ec26e-0354-4066-a999-205af502313f"
   },
   "outputs": [
    {
     "data": {
      "text/html": [
       "<div>\n",
       "<style scoped>\n",
       "    .dataframe tbody tr th:only-of-type {\n",
       "        vertical-align: middle;\n",
       "    }\n",
       "\n",
       "    .dataframe tbody tr th {\n",
       "        vertical-align: top;\n",
       "    }\n",
       "\n",
       "    .dataframe thead th {\n",
       "        text-align: right;\n",
       "    }\n",
       "</style>\n",
       "<table border=\"1\" class=\"dataframe\">\n",
       "  <thead>\n",
       "    <tr style=\"text-align: right;\">\n",
       "      <th></th>\n",
       "      <th>Administrative</th>\n",
       "      <th>Informational</th>\n",
       "      <th>ProductRelated</th>\n",
       "      <th>PageValues</th>\n",
       "      <th>Month</th>\n",
       "      <th>OperatingSystems</th>\n",
       "      <th>Browser</th>\n",
       "      <th>Region</th>\n",
       "      <th>TrafficType</th>\n",
       "      <th>VisitorType</th>\n",
       "      <th>Weekend</th>\n",
       "      <th>Revenue</th>\n",
       "      <th>DislikeRates</th>\n",
       "    </tr>\n",
       "  </thead>\n",
       "  <tbody>\n",
       "    <tr>\n",
       "      <th>0</th>\n",
       "      <td>(-0.001, 1.0]</td>\n",
       "      <td>(-0.001, 2.0]</td>\n",
       "      <td>(-0.001, 1.0]</td>\n",
       "      <td>0.0</td>\n",
       "      <td>Feb</td>\n",
       "      <td>(0.999, 2.0]</td>\n",
       "      <td>(0.999, 2.0]</td>\n",
       "      <td>(0.999, 3.0]</td>\n",
       "      <td>(0.999, 2.0]</td>\n",
       "      <td>Returning_Visitor</td>\n",
       "      <td>False</td>\n",
       "      <td>False</td>\n",
       "      <td>100.0</td>\n",
       "    </tr>\n",
       "    <tr>\n",
       "      <th>1</th>\n",
       "      <td>(-0.001, 1.0]</td>\n",
       "      <td>(-0.001, 2.0]</td>\n",
       "      <td>(1.0, 2.0]</td>\n",
       "      <td>0.0</td>\n",
       "      <td>Feb</td>\n",
       "      <td>(0.999, 2.0]</td>\n",
       "      <td>(0.999, 2.0]</td>\n",
       "      <td>(0.999, 3.0]</td>\n",
       "      <td>(0.999, 2.0]</td>\n",
       "      <td>Returning_Visitor</td>\n",
       "      <td>False</td>\n",
       "      <td>False</td>\n",
       "      <td>25.0</td>\n",
       "    </tr>\n",
       "    <tr>\n",
       "      <th>2</th>\n",
       "      <td>(-0.001, 1.0]</td>\n",
       "      <td>(-0.001, 2.0]</td>\n",
       "      <td>(-0.001, 1.0]</td>\n",
       "      <td>0.0</td>\n",
       "      <td>Feb</td>\n",
       "      <td>(2.0, 8.0]</td>\n",
       "      <td>(0.999, 2.0]</td>\n",
       "      <td>(3.0, 9.0]</td>\n",
       "      <td>(2.0, 3.0]</td>\n",
       "      <td>Returning_Visitor</td>\n",
       "      <td>False</td>\n",
       "      <td>False</td>\n",
       "      <td>100.0</td>\n",
       "    </tr>\n",
       "    <tr>\n",
       "      <th>3</th>\n",
       "      <td>(-0.001, 1.0]</td>\n",
       "      <td>(-0.001, 2.0]</td>\n",
       "      <td>(1.0, 2.0]</td>\n",
       "      <td>0.0</td>\n",
       "      <td>Feb</td>\n",
       "      <td>(2.0, 8.0]</td>\n",
       "      <td>(0.999, 2.0]</td>\n",
       "      <td>(0.999, 3.0]</td>\n",
       "      <td>(3.0, 20.0]</td>\n",
       "      <td>Returning_Visitor</td>\n",
       "      <td>False</td>\n",
       "      <td>False</td>\n",
       "      <td>47.5</td>\n",
       "    </tr>\n",
       "    <tr>\n",
       "      <th>4</th>\n",
       "      <td>(-0.001, 1.0]</td>\n",
       "      <td>(-0.001, 2.0]</td>\n",
       "      <td>(9.0, 10.0]</td>\n",
       "      <td>0.0</td>\n",
       "      <td>Feb</td>\n",
       "      <td>(2.0, 8.0]</td>\n",
       "      <td>(2.0, 13.0]</td>\n",
       "      <td>(0.999, 3.0]</td>\n",
       "      <td>(3.0, 20.0]</td>\n",
       "      <td>Returning_Visitor</td>\n",
       "      <td>True</td>\n",
       "      <td>False</td>\n",
       "      <td>17.5</td>\n",
       "    </tr>\n",
       "  </tbody>\n",
       "</table>\n",
       "</div>"
      ],
      "text/plain": [
       "  Administrative  Informational ProductRelated  ...  Weekend Revenue DislikeRates\n",
       "0  (-0.001, 1.0]  (-0.001, 2.0]  (-0.001, 1.0]  ...    False   False        100.0\n",
       "1  (-0.001, 1.0]  (-0.001, 2.0]     (1.0, 2.0]  ...    False   False         25.0\n",
       "2  (-0.001, 1.0]  (-0.001, 2.0]  (-0.001, 1.0]  ...    False   False        100.0\n",
       "3  (-0.001, 1.0]  (-0.001, 2.0]     (1.0, 2.0]  ...    False   False         47.5\n",
       "4  (-0.001, 1.0]  (-0.001, 2.0]    (9.0, 10.0]  ...     True   False         17.5\n",
       "\n",
       "[5 rows x 13 columns]"
      ]
     },
     "execution_count": 80,
     "metadata": {
      "tags": []
     },
     "output_type": "execute_result"
    }
   ],
   "source": [
    "drop_features = [\"Administrative_Duration\", \"Informational_Duration\", \"ProductRelated_Duration\", \n",
    "                 \"BounceRates\", \"ExitRates\", \"SpecialDay\", \"TimeSpent\"]\n",
    "not_cat_features = [\"Revenue\",\"Weekend\"]\n",
    "\n",
    "df[\"Weekend\"] = df[\"Weekend\"].astype(str)\n",
    "\n",
    "df = df.drop(columns=drop_features)\n",
    "\n",
    "df.head()"
   ]
  },
  {
   "cell_type": "code",
   "execution_count": 81,
   "metadata": {
    "colab": {
     "base_uri": "https://localhost:8080/",
     "height": 0
    },
    "id": "lIYAeHdkllls",
    "outputId": "3c50ca9f-180d-45ec-833f-4ae81e1a382e",
    "scrolled": false
   },
   "outputs": [
    {
     "name": "stdout",
     "output_type": "stream",
     "text": [
      "<class 'pandas.core.frame.DataFrame'>\n",
      "RangeIndex: 12330 entries, 0 to 12329\n",
      "Data columns (total 13 columns):\n",
      " #   Column            Non-Null Count  Dtype  \n",
      "---  ------            --------------  -----  \n",
      " 0   Administrative    12330 non-null  object \n",
      " 1   Informational     12330 non-null  object \n",
      " 2   ProductRelated    12330 non-null  object \n",
      " 3   PageValues        12330 non-null  float64\n",
      " 4   Month             12330 non-null  object \n",
      " 5   OperatingSystems  12330 non-null  object \n",
      " 6   Browser           12330 non-null  object \n",
      " 7   Region            12330 non-null  object \n",
      " 8   TrafficType       12330 non-null  object \n",
      " 9   VisitorType       12330 non-null  object \n",
      " 10  Weekend           12330 non-null  object \n",
      " 11  Revenue           12330 non-null  bool   \n",
      " 12  DislikeRates      12330 non-null  float64\n",
      "dtypes: bool(1), float64(2), object(10)\n",
      "memory usage: 1.1+ MB\n"
     ]
    }
   ],
   "source": [
    "df.info()"
   ]
  },
  {
   "cell_type": "code",
   "execution_count": 82,
   "metadata": {
    "id": "1VvVaqzdlllt"
   },
   "outputs": [],
   "source": [
    "cat_features = [\"Administrative\",\"Informational\",\"OperatingSystems\", \"Browser\", \n",
    "                \"Region\", \"TrafficType\",\"Month\", \"VisitorType\", \n",
    "                \"Weekend\", \"ProductRelated\"]\n",
    "\n",
    "new_df = df.copy() # test data \n",
    "new_df = pd.get_dummies(new_df, columns=cat_features, drop_first=True)\n",
    "\n",
    "df = pd.get_dummies(df, columns=cat_features, drop_first=True)"
   ]
  },
  {
   "cell_type": "code",
   "execution_count": 83,
   "metadata": {
    "colab": {
     "base_uri": "https://localhost:8080/",
     "height": 0
    },
    "id": "jc6j61qhlllu",
    "outputId": "44276852-4c52-4967-ff6c-0af534e1ed85"
   },
   "outputs": [
    {
     "name": "stdout",
     "output_type": "stream",
     "text": [
      "<class 'pandas.core.frame.DataFrame'>\n",
      "RangeIndex: 12330 entries, 0 to 12329\n",
      "Data columns (total 52 columns):\n",
      " #   Column                         Non-Null Count  Dtype  \n",
      "---  ------                         --------------  -----  \n",
      " 0   PageValues                     12330 non-null  float64\n",
      " 1   Revenue                        12330 non-null  bool   \n",
      " 2   DislikeRates                   12330 non-null  float64\n",
      " 3   Administrative_(1.0, 27.0]     12330 non-null  uint8  \n",
      " 4   Informational_(2.0, 27.0]      12330 non-null  uint8  \n",
      " 5   OperatingSystems_(2.0, 8.0]    12330 non-null  uint8  \n",
      " 6   Browser_(2.0, 13.0]            12330 non-null  uint8  \n",
      " 7   Region_(3.0, 9.0]              12330 non-null  uint8  \n",
      " 8   TrafficType_(2.0, 3.0]         12330 non-null  uint8  \n",
      " 9   TrafficType_(3.0, 20.0]        12330 non-null  uint8  \n",
      " 10  Month_Dec                      12330 non-null  uint8  \n",
      " 11  Month_Feb                      12330 non-null  uint8  \n",
      " 12  Month_Jul                      12330 non-null  uint8  \n",
      " 13  Month_June                     12330 non-null  uint8  \n",
      " 14  Month_Mar                      12330 non-null  uint8  \n",
      " 15  Month_May                      12330 non-null  uint8  \n",
      " 16  Month_Nov                      12330 non-null  uint8  \n",
      " 17  Month_Oct                      12330 non-null  uint8  \n",
      " 18  Month_Sep                      12330 non-null  uint8  \n",
      " 19  VisitorType_Other              12330 non-null  uint8  \n",
      " 20  VisitorType_Returning_Visitor  12330 non-null  uint8  \n",
      " 21  Weekend_True                   12330 non-null  uint8  \n",
      " 22  ProductRelated_(1.0, 2.0]      12330 non-null  uint8  \n",
      " 23  ProductRelated_(10.0, 11.0]    12330 non-null  uint8  \n",
      " 24  ProductRelated_(11.0, 12.0]    12330 non-null  uint8  \n",
      " 25  ProductRelated_(12.0, 14.0]    12330 non-null  uint8  \n",
      " 26  ProductRelated_(133.0, 705.0]  12330 non-null  uint8  \n",
      " 27  ProductRelated_(14.0, 15.0]    12330 non-null  uint8  \n",
      " 28  ProductRelated_(15.0, 17.0]    12330 non-null  uint8  \n",
      " 29  ProductRelated_(17.0, 19.0]    12330 non-null  uint8  \n",
      " 30  ProductRelated_(19.0, 21.0]    12330 non-null  uint8  \n",
      " 31  ProductRelated_(2.0, 3.0]      12330 non-null  uint8  \n",
      " 32  ProductRelated_(21.0, 23.0]    12330 non-null  uint8  \n",
      " 33  ProductRelated_(23.0, 25.0]    12330 non-null  uint8  \n",
      " 34  ProductRelated_(25.0, 27.0]    12330 non-null  uint8  \n",
      " 35  ProductRelated_(27.0, 30.0]    12330 non-null  uint8  \n",
      " 36  ProductRelated_(3.0, 4.0]      12330 non-null  uint8  \n",
      " 37  ProductRelated_(30.0, 33.0]    12330 non-null  uint8  \n",
      " 38  ProductRelated_(33.0, 37.0]    12330 non-null  uint8  \n",
      " 39  ProductRelated_(37.0, 41.0]    12330 non-null  uint8  \n",
      " 40  ProductRelated_(4.0, 5.0]      12330 non-null  uint8  \n",
      " 41  ProductRelated_(41.0, 47.0]    12330 non-null  uint8  \n",
      " 42  ProductRelated_(47.0, 54.0]    12330 non-null  uint8  \n",
      " 43  ProductRelated_(5.0, 6.0]      12330 non-null  uint8  \n",
      " 44  ProductRelated_(54.0, 62.161]  12330 non-null  uint8  \n",
      " 45  ProductRelated_(6.0, 7.0]      12330 non-null  uint8  \n",
      " 46  ProductRelated_(62.161, 76.0]  12330 non-null  uint8  \n",
      " 47  ProductRelated_(7.0, 8.0]      12330 non-null  uint8  \n",
      " 48  ProductRelated_(76.0, 95.0]    12330 non-null  uint8  \n",
      " 49  ProductRelated_(8.0, 9.0]      12330 non-null  uint8  \n",
      " 50  ProductRelated_(9.0, 10.0]     12330 non-null  uint8  \n",
      " 51  ProductRelated_(95.0, 133.0]   12330 non-null  uint8  \n",
      "dtypes: bool(1), float64(2), uint8(49)\n",
      "memory usage: 794.8 KB\n"
     ]
    }
   ],
   "source": [
    "new_df.info()"
   ]
  },
  {
   "cell_type": "code",
   "execution_count": 84,
   "metadata": {
    "colab": {
     "base_uri": "https://localhost:8080/",
     "height": 0
    },
    "id": "0WQK9Alelllv",
    "outputId": "94d7f103-2145-4eeb-8844-0363230830f3"
   },
   "outputs": [
    {
     "data": {
      "text/plain": [
       "{('Administrative_(1.0, 27.0]', 'DislikeRates'): 0.32728385601574,\n",
       " ('DislikeRates', 'Administrative_(1.0, 27.0]'): 0.32728385601574,\n",
       " ('Month_May', 'Month_Nov'): 0.3471818999445244,\n",
       " ('Month_Nov', 'Month_May'): 0.3471818999445244,\n",
       " ('PageValues', 'Revenue'): 0.49256929525114634,\n",
       " ('Revenue', 'PageValues'): 0.49256929525114634,\n",
       " ('TrafficType_(2.0, 3.0]', 'TrafficType_(3.0, 20.0]'): 0.30471365660931105,\n",
       " ('TrafficType_(3.0, 20.0]', 'TrafficType_(2.0, 3.0]'): 0.30471365660931105}"
      ]
     },
     "execution_count": 84,
     "metadata": {
      "tags": []
     },
     "output_type": "execute_result"
    }
   ],
   "source": [
    "corr = new_df.corr()\n",
    "\n",
    "multicor = {}\n",
    "\n",
    "for column in corr.columns:\n",
    "    for index in corr.index:\n",
    "        if abs(corr.loc[index][column]) > 0.3 and abs(corr.loc[index][column]) != 1.0:\n",
    "            multicor[(index, column)] = abs(corr.loc[index][column])\n",
    "\n",
    "#features = [\"Month_May\", \"ProductRelated_(109.0, 705.0]\", \"Browser_13\", \n",
    "#            \"OperatingSystems_8\", \"TrafficType_20\"]\n",
    "\n",
    "#new_df.drop(columns=features, inplace=True)\n",
    "\n",
    "multicor"
   ]
  },
  {
   "cell_type": "code",
   "execution_count": 85,
   "metadata": {
    "colab": {
     "base_uri": "https://localhost:8080/",
     "height": 700
    },
    "id": "wUDyXeGFlllx",
    "outputId": "4bf11676-ca56-4532-e739-5592dff91dbe"
   },
   "outputs": [
    {
     "data": {
      "text/plain": [
       "<matplotlib.axes._subplots.AxesSubplot at 0x7f3e4e476ad0>"
      ]
     },
     "execution_count": 85,
     "metadata": {
      "tags": []
     },
     "output_type": "execute_result"
    },
    {
     "data": {
      "image/png": "[encoded data removed]",
      "text/plain": [
       "<Figure size 1080x648 with 2 Axes>"
      ]
     },
     "metadata": {
      "needs_background": "light",
      "tags": []
     },
     "output_type": "display_data"
    }
   ],
   "source": [
    "plt.subplots(figsize=(15, 9))\n",
    "\n",
    "sns.heatmap(abs(new_df.corr()))"
   ]
  },
  {
   "cell_type": "code",
   "execution_count": 86,
   "metadata": {
    "colab": {
     "base_uri": "https://localhost:8080/",
     "height": 0
    },
    "id": "HdC_lszzllly",
    "outputId": "69d4e6a7-c798-4376-d7bc-3478fb77ab4b"
   },
   "outputs": [
    {
     "name": "stdout",
     "output_type": "stream",
     "text": [
      "<class 'pandas.core.frame.DataFrame'>\n",
      "RangeIndex: 12330 entries, 0 to 12329\n",
      "Data columns (total 52 columns):\n",
      " #   Column                         Non-Null Count  Dtype  \n",
      "---  ------                         --------------  -----  \n",
      " 0   PageValues                     12330 non-null  float64\n",
      " 1   Revenue                        12330 non-null  bool   \n",
      " 2   DislikeRates                   12330 non-null  float64\n",
      " 3   Administrative_(1.0, 27.0]     12330 non-null  uint8  \n",
      " 4   Informational_(2.0, 27.0]      12330 non-null  uint8  \n",
      " 5   OperatingSystems_(2.0, 8.0]    12330 non-null  uint8  \n",
      " 6   Browser_(2.0, 13.0]            12330 non-null  uint8  \n",
      " 7   Region_(3.0, 9.0]              12330 non-null  uint8  \n",
      " 8   TrafficType_(2.0, 3.0]         12330 non-null  uint8  \n",
      " 9   TrafficType_(3.0, 20.0]        12330 non-null  uint8  \n",
      " 10  Month_Dec                      12330 non-null  uint8  \n",
      " 11  Month_Feb                      12330 non-null  uint8  \n",
      " 12  Month_Jul                      12330 non-null  uint8  \n",
      " 13  Month_June                     12330 non-null  uint8  \n",
      " 14  Month_Mar                      12330 non-null  uint8  \n",
      " 15  Month_May                      12330 non-null  uint8  \n",
      " 16  Month_Nov                      12330 non-null  uint8  \n",
      " 17  Month_Oct                      12330 non-null  uint8  \n",
      " 18  Month_Sep                      12330 non-null  uint8  \n",
      " 19  VisitorType_Other              12330 non-null  uint8  \n",
      " 20  VisitorType_Returning_Visitor  12330 non-null  uint8  \n",
      " 21  Weekend_True                   12330 non-null  uint8  \n",
      " 22  ProductRelated_(1.0, 2.0]      12330 non-null  uint8  \n",
      " 23  ProductRelated_(10.0, 11.0]    12330 non-null  uint8  \n",
      " 24  ProductRelated_(11.0, 12.0]    12330 non-null  uint8  \n",
      " 25  ProductRelated_(12.0, 14.0]    12330 non-null  uint8  \n",
      " 26  ProductRelated_(133.0, 705.0]  12330 non-null  uint8  \n",
      " 27  ProductRelated_(14.0, 15.0]    12330 non-null  uint8  \n",
      " 28  ProductRelated_(15.0, 17.0]    12330 non-null  uint8  \n",
      " 29  ProductRelated_(17.0, 19.0]    12330 non-null  uint8  \n",
      " 30  ProductRelated_(19.0, 21.0]    12330 non-null  uint8  \n",
      " 31  ProductRelated_(2.0, 3.0]      12330 non-null  uint8  \n",
      " 32  ProductRelated_(21.0, 23.0]    12330 non-null  uint8  \n",
      " 33  ProductRelated_(23.0, 25.0]    12330 non-null  uint8  \n",
      " 34  ProductRelated_(25.0, 27.0]    12330 non-null  uint8  \n",
      " 35  ProductRelated_(27.0, 30.0]    12330 non-null  uint8  \n",
      " 36  ProductRelated_(3.0, 4.0]      12330 non-null  uint8  \n",
      " 37  ProductRelated_(30.0, 33.0]    12330 non-null  uint8  \n",
      " 38  ProductRelated_(33.0, 37.0]    12330 non-null  uint8  \n",
      " 39  ProductRelated_(37.0, 41.0]    12330 non-null  uint8  \n",
      " 40  ProductRelated_(4.0, 5.0]      12330 non-null  uint8  \n",
      " 41  ProductRelated_(41.0, 47.0]    12330 non-null  uint8  \n",
      " 42  ProductRelated_(47.0, 54.0]    12330 non-null  uint8  \n",
      " 43  ProductRelated_(5.0, 6.0]      12330 non-null  uint8  \n",
      " 44  ProductRelated_(54.0, 62.161]  12330 non-null  uint8  \n",
      " 45  ProductRelated_(6.0, 7.0]      12330 non-null  uint8  \n",
      " 46  ProductRelated_(62.161, 76.0]  12330 non-null  uint8  \n",
      " 47  ProductRelated_(7.0, 8.0]      12330 non-null  uint8  \n",
      " 48  ProductRelated_(76.0, 95.0]    12330 non-null  uint8  \n",
      " 49  ProductRelated_(8.0, 9.0]      12330 non-null  uint8  \n",
      " 50  ProductRelated_(9.0, 10.0]     12330 non-null  uint8  \n",
      " 51  ProductRelated_(95.0, 133.0]   12330 non-null  uint8  \n",
      "dtypes: bool(1), float64(2), uint8(49)\n",
      "memory usage: 794.8 KB\n"
     ]
    }
   ],
   "source": [
    "new_df.info()"
   ]
  },
  {
   "cell_type": "code",
   "execution_count": 87,
   "metadata": {
    "colab": {
     "base_uri": "https://localhost:8080/",
     "height": 0
    },
    "id": "D-LHW6zQlll0",
    "outputId": "a3ada2ce-7ee6-49c8-c498-7266d99620ee",
    "scrolled": false
   },
   "outputs": [
    {
     "name": "stdout",
     "output_type": "stream",
     "text": [
      "<class 'pandas.core.frame.DataFrame'>\n",
      "RangeIndex: 12330 entries, 0 to 12329\n",
      "Data columns (total 52 columns):\n",
      " #   Column                         Non-Null Count  Dtype  \n",
      "---  ------                         --------------  -----  \n",
      " 0   PageValues                     12330 non-null  float64\n",
      " 1   Revenue                        12330 non-null  bool   \n",
      " 2   DislikeRates                   12330 non-null  float64\n",
      " 3   Administrative_(1.0, 27.0]     12330 non-null  uint8  \n",
      " 4   Informational_(2.0, 27.0]      12330 non-null  uint8  \n",
      " 5   OperatingSystems_(2.0, 8.0]    12330 non-null  uint8  \n",
      " 6   Browser_(2.0, 13.0]            12330 non-null  uint8  \n",
      " 7   Region_(3.0, 9.0]              12330 non-null  uint8  \n",
      " 8   TrafficType_(2.0, 3.0]         12330 non-null  uint8  \n",
      " 9   TrafficType_(3.0, 20.0]        12330 non-null  uint8  \n",
      " 10  Month_Dec                      12330 non-null  uint8  \n",
      " 11  Month_Feb                      12330 non-null  uint8  \n",
      " 12  Month_Jul                      12330 non-null  uint8  \n",
      " 13  Month_June                     12330 non-null  uint8  \n",
      " 14  Month_Mar                      12330 non-null  uint8  \n",
      " 15  Month_May                      12330 non-null  uint8  \n",
      " 16  Month_Nov                      12330 non-null  uint8  \n",
      " 17  Month_Oct                      12330 non-null  uint8  \n",
      " 18  Month_Sep                      12330 non-null  uint8  \n",
      " 19  VisitorType_Other              12330 non-null  uint8  \n",
      " 20  VisitorType_Returning_Visitor  12330 non-null  uint8  \n",
      " 21  Weekend_True                   12330 non-null  uint8  \n",
      " 22  ProductRelated_(1.0, 2.0]      12330 non-null  uint8  \n",
      " 23  ProductRelated_(10.0, 11.0]    12330 non-null  uint8  \n",
      " 24  ProductRelated_(11.0, 12.0]    12330 non-null  uint8  \n",
      " 25  ProductRelated_(12.0, 14.0]    12330 non-null  uint8  \n",
      " 26  ProductRelated_(133.0, 705.0]  12330 non-null  uint8  \n",
      " 27  ProductRelated_(14.0, 15.0]    12330 non-null  uint8  \n",
      " 28  ProductRelated_(15.0, 17.0]    12330 non-null  uint8  \n",
      " 29  ProductRelated_(17.0, 19.0]    12330 non-null  uint8  \n",
      " 30  ProductRelated_(19.0, 21.0]    12330 non-null  uint8  \n",
      " 31  ProductRelated_(2.0, 3.0]      12330 non-null  uint8  \n",
      " 32  ProductRelated_(21.0, 23.0]    12330 non-null  uint8  \n",
      " 33  ProductRelated_(23.0, 25.0]    12330 non-null  uint8  \n",
      " 34  ProductRelated_(25.0, 27.0]    12330 non-null  uint8  \n",
      " 35  ProductRelated_(27.0, 30.0]    12330 non-null  uint8  \n",
      " 36  ProductRelated_(3.0, 4.0]      12330 non-null  uint8  \n",
      " 37  ProductRelated_(30.0, 33.0]    12330 non-null  uint8  \n",
      " 38  ProductRelated_(33.0, 37.0]    12330 non-null  uint8  \n",
      " 39  ProductRelated_(37.0, 41.0]    12330 non-null  uint8  \n",
      " 40  ProductRelated_(4.0, 5.0]      12330 non-null  uint8  \n",
      " 41  ProductRelated_(41.0, 47.0]    12330 non-null  uint8  \n",
      " 42  ProductRelated_(47.0, 54.0]    12330 non-null  uint8  \n",
      " 43  ProductRelated_(5.0, 6.0]      12330 non-null  uint8  \n",
      " 44  ProductRelated_(54.0, 62.161]  12330 non-null  uint8  \n",
      " 45  ProductRelated_(6.0, 7.0]      12330 non-null  uint8  \n",
      " 46  ProductRelated_(62.161, 76.0]  12330 non-null  uint8  \n",
      " 47  ProductRelated_(7.0, 8.0]      12330 non-null  uint8  \n",
      " 48  ProductRelated_(76.0, 95.0]    12330 non-null  uint8  \n",
      " 49  ProductRelated_(8.0, 9.0]      12330 non-null  uint8  \n",
      " 50  ProductRelated_(9.0, 10.0]     12330 non-null  uint8  \n",
      " 51  ProductRelated_(95.0, 133.0]   12330 non-null  uint8  \n",
      "dtypes: bool(1), float64(2), uint8(49)\n",
      "memory usage: 794.8 KB\n"
     ]
    }
   ],
   "source": [
    "df.info()"
   ]
  },
  {
   "cell_type": "markdown",
   "metadata": {
    "id": "PA7dx5lQlll1"
   },
   "source": [
    "# Modelling"
   ]
  },
  {
   "cell_type": "code",
   "execution_count": 88,
   "metadata": {
    "id": "yRq0Wsyelll1"
   },
   "outputs": [],
   "source": [
    "X = df.drop(columns=[\"Revenue\"])\n",
    "y = df[\"Revenue\"]"
   ]
  },
  {
   "cell_type": "markdown",
   "metadata": {
    "id": "bhrnMfl9lll2"
   },
   "source": [
    "### Using train test split"
   ]
  },
  {
   "cell_type": "code",
   "execution_count": 89,
   "metadata": {
    "colab": {
     "base_uri": "https://localhost:8080/",
     "height": 0
    },
    "id": "gh1Wtjhjlll3",
    "outputId": "525f54a6-1bf1-499a-fc6f-c1eb976d59a1",
    "scrolled": false
   },
   "outputs": [
    {
     "data": {
      "text/plain": [
       "SVC(C=1.0, break_ties=False, cache_size=200, class_weight=None, coef0=0.0,\n",
       "    decision_function_shape='ovr', degree=3, gamma='scale', kernel='rbf',\n",
       "    max_iter=-1, probability=True, random_state=None, shrinking=True, tol=0.001,\n",
       "    verbose=False)"
      ]
     },
     "execution_count": 89,
     "metadata": {
      "tags": []
     },
     "output_type": "execute_result"
    }
   ],
   "source": [
    "X_train, X_test, y_train, y_test = train_test_split(X, y, test_size=0.33, random_state=42)\n",
    "\n",
    "random_forest = RandomForestClassifier()\n",
    "random_forest.fit(X_train, y_train)\n",
    "\n",
    "gnb = GaussianNB()\n",
    "gnb.fit(X_train, y_train)\n",
    "\n",
    "svm = SVC(probability=True)\n",
    "svm.fit(X_train, y_train)"
   ]
  },
  {
   "cell_type": "code",
   "execution_count": 90,
   "metadata": {
    "colab": {
     "base_uri": "https://localhost:8080/",
     "height": 0
    },
    "id": "GyhKIyZIlll5",
    "outputId": "08b8c54d-c25d-44ac-8267-fb1476b3aff2"
   },
   "outputs": [
    {
     "name": "stdout",
     "output_type": "stream",
     "text": [
      "Train Random Forest Score : 0.9992736956784893\n",
      "Train Gaussian Naive Bayes : 0.5869749425009079\n",
      "Train Support Vector Machine : 0.892749061856918\n",
      "\n",
      "--------------------------\n",
      "Test Random Forest Score : 0.8960432538707299\n",
      "Test Gaussisan Naive Bayes : 0.5851560579995084\n",
      "Test Support Vector Machine : 0.8911280412877857\n",
      "\n",
      "--------------------------\n",
      "Bias Random Forest Bias : 0.10323044180775942\n",
      "Bias Gaussian Naive Bayes : 0.0018188845013994426\n",
      "Bias Support Vector Machine : 0.001621020569132381\n"
     ]
    }
   ],
   "source": [
    "random_forest_test_score = random_forest.score(X_test, y_test)\n",
    "gnb_test_score = gnb.score(X_test, y_test)\n",
    "svm_test_score = svm.score(X_test, y_test)\n",
    "\n",
    "random_forest_train_score = random_forest.score(X_train, y_train)\n",
    "gnb_train_score = gnb.score(X_train, y_train)\n",
    "svm_train_score = svm.score(X_train, y_train)\n",
    "\n",
    "random_forest_bias = abs(random_forest.score(X_train, y_train) - random_forest.score(X_test, y_test))\n",
    "gnb_bias = abs(gnb.score(X_train, y_train) - gnb.score(X_test, y_test))\n",
    "svm_bias = abs(svm.score(X_train, y_train) - svm.score(X_test, y_test))\n",
    "\n",
    "test_scores = {\"Random Forest Score\": random_forest_test_score, \n",
    "               \"Gaussisan Naive Bayes\": gnb_test_score, \n",
    "               \"Support Vector Machine\":svm_test_score}\n",
    "\n",
    "train_scores = {\"Random Forest Score\":random_forest_train_score, \n",
    "                \"Gaussian Naive Bayes\":gnb_train_score, \n",
    "                \"Support Vector Machine\":svm_train_score}\n",
    "\n",
    "bias_score = {\"Random Forest Bias\":random_forest_bias,\n",
    "        \"Gaussian Naive Bayes\":gnb_bias,\n",
    "        \"Support Vector Machine\":svm_bias}\n",
    "\n",
    "for model, score in train_scores.items():\n",
    "    print(f\"Train {model} : {score}\")\n",
    "\n",
    "print(\"\\n--------------------------\")\n",
    "\n",
    "for model, score in test_scores.items():\n",
    "    print(f\"Test {model} : {score}\")\n",
    "\n",
    "print(\"\\n--------------------------\")\n",
    "\n",
    "for model, bias in bias_score.items():\n",
    "    print(f\"Bias {model} : {bias}\")"
   ]
  },
  {
   "cell_type": "code",
   "execution_count": 91,
   "metadata": {
    "colab": {
     "base_uri": "https://localhost:8080/",
     "height": 0
    },
    "id": "mIWKTFQ2lll7",
    "outputId": "31aa7997-be4e-44ed-b6c2-c0d236e73eb1"
   },
   "outputs": [
    {
     "name": "stdout",
     "output_type": "stream",
     "text": [
      "Score of random auc : 0.5\n",
      "Score of random forest auc : 0.9139172262099837\n",
      "Score of naive bayes auc : 0.7927147184260327\n",
      "Score of support vector machine auc : 0.8769850684233659\n"
     ]
    }
   ],
   "source": [
    "random_probs = [0 for _ in range(len(y_test))]\n",
    "\n",
    "random_forest_probs = random_forest.predict_proba(X_test)[:, 1]\n",
    "gnb_probs = gnb.predict_proba(X_test)[:, 1]\n",
    "svm_probs = svm.predict_proba(X_test)[:, 1]\n",
    "\n",
    "r_auc = roc_auc_score(y_test, random_probs)\n",
    "random_forest_auc = roc_auc_score(y_test, random_forest_probs)\n",
    "gnb_auc = roc_auc_score(y_test, gnb_probs)\n",
    "svm_auc = roc_auc_score(y_test, svm_probs)\n",
    "\n",
    "print(f\"Score of random auc : {r_auc}\")\n",
    "print(f\"Score of random forest auc : {random_forest_auc}\")\n",
    "print(f\"Score of naive bayes auc : {gnb_auc}\")\n",
    "print(f\"Score of support vector machine auc : {svm_auc}\")"
   ]
  },
  {
   "cell_type": "code",
   "execution_count": 92,
   "metadata": {
    "id": "vX_dIrZwlll9"
   },
   "outputs": [],
   "source": [
    "random_fpr, random_tpr, _ = roc_curve(y_test, random_probs)\n",
    "random_forest_fpr, random_forest_tpr, _ = roc_curve(y_test, random_forest_probs)\n",
    "gnb_fpr, gnb_tpr, _ = roc_curve(y_test, gnb_probs)\n",
    "svm_fpr, svm_tpr, _ = roc_curve(y_test, svm_probs)"
   ]
  },
  {
   "cell_type": "code",
   "execution_count": 93,
   "metadata": {
    "colab": {
     "base_uri": "https://localhost:8080/",
     "height": 567
    },
    "id": "SDj9kQIklll-",
    "outputId": "b2cfefce-3106-489f-9d91-f947efb60d51"
   },
   "outputs": [
    {
     "data": {
      "image/png": "[encoded data removed]",
      "text/plain": [
       "<Figure size 1080x648 with 1 Axes>"
      ]
     },
     "metadata": {
      "needs_background": "light",
      "tags": []
     },
     "output_type": "display_data"
    }
   ],
   "source": [
    "fig, ax = plt.subplots(figsize=(15, 9))\n",
    "\n",
    "plt.plot(random_fpr, random_tpr, linestyle=\"--\", label=\"Random prediction (AUROC = %0.3f)\"%r_auc)\n",
    "plt.plot(random_forest_fpr, random_forest_tpr, marker=\".\", label=\"Random forest prediction (AUROC = %.3f)\"%random_forest_auc)\n",
    "plt.plot(gnb_fpr, gnb_tpr, marker=\".\", label=\"Naive bayes prediction (AUROC = %0.3f)\"%gnb_auc)\n",
    "plt.plot(svm_fpr, svm_tpr, marker=\".\", label=\"Support Vector Machine prediction (AUROC = %0.3f)\"%svm_auc)\n",
    "\n",
    "plt.title(\"ROC Plot\")\n",
    "\n",
    "plt.xlabel(\"False Positive Rate\")\n",
    "plt.ylabel(\"True Positive Rate\")\n",
    "\n",
    "plt.legend()\n",
    "\n",
    "plt.show()"
   ]
  },
  {
   "cell_type": "markdown",
   "metadata": {
    "id": "ZiL6DYJblll_"
   },
   "source": [
    "### Using KFold"
   ]
  },
  {
   "cell_type": "code",
   "execution_count": 94,
   "metadata": {
    "colab": {
     "base_uri": "https://localhost:8080/",
     "height": 0
    },
    "id": "UEO5uQl8llmA",
    "outputId": "c4a48142-2e2d-4510-ffc6-c6e61e4a457c"
   },
   "outputs": [
    {
     "name": "stdout",
     "output_type": "stream",
     "text": [
      "Fold 1\n",
      "-------------------------------------\n",
      "Train Random Forest score : 0.9995944849959448\n",
      "Train Gaussian Naive Bayes score : 0.573499594484996\n",
      "Train Support Vector Machine score : 0.8914233576642335\n",
      "\n",
      "--------------------------\n",
      "Test Random Forest score : 0.8961881589618816\n",
      "Test Gaussian Naive Bayes score : 0.5656934306569343\n",
      "Test Support Vector Machine score : 0.8949716139497161\n",
      "\n",
      "--------------------------\n",
      "Bias Random Forest : 0.10340632603406319\n",
      "Bias Gaussian Naive Bayes : 0.007806163828061652\n",
      "Bias Support Vector Machine : 0.0035482562854826094\n",
      "\n",
      "--------------------------\n",
      "Fold 2\n",
      "-------------------------------------\n",
      "Train Random Forest score : 0.9992903487429035\n",
      "Train Gaussian Naive Bayes score : 0.597323600973236\n",
      "Train Support Vector Machine score : 0.8937550689375506\n",
      "\n",
      "--------------------------\n",
      "Test Random Forest score : 0.8957826439578265\n",
      "Test Gaussian Naive Bayes score : 0.5940794809407948\n",
      "Test Support Vector Machine score : 0.8868613138686131\n",
      "\n",
      "--------------------------\n",
      "Bias Random Forest : 0.10350770478507698\n",
      "Bias Gaussian Naive Bayes : 0.0032441200324412334\n",
      "Bias Support Vector Machine : 0.006893755068937524\n",
      "\n",
      "--------------------------\n",
      "Fold 3\n",
      "-------------------------------------\n",
      "Train Random Forest score : 0.999493106244931\n",
      "Train Gaussian Naive Bayes score : 0.6070559610705596\n",
      "Train Support Vector Machine score : 0.8920316301703163\n",
      "\n",
      "--------------------------\n",
      "Test Random Forest score : 0.8953771289537713\n",
      "Test Gaussian Naive Bayes score : 0.5961070559610706\n",
      "Test Support Vector Machine score : 0.8953771289537713\n",
      "\n",
      "--------------------------\n",
      "Bias Random Forest : 0.10411597729115973\n",
      "Bias Gaussian Naive Bayes : 0.010948905109488982\n",
      "Bias Support Vector Machine : 0.0033454987834550254\n",
      "\n",
      "--------------------------\n",
      "Fold 4\n",
      "-------------------------------------\n",
      "Train Random Forest score : 0.999493106244931\n",
      "Train Gaussian Naive Bayes score : 0.6034063260340633\n",
      "Train Support Vector Machine score : 0.8927412814274128\n",
      "\n",
      "--------------------------\n",
      "Test Random Forest score : 0.8921330089213301\n",
      "Test Gaussian Naive Bayes score : 0.605433901054339\n",
      "Test Support Vector Machine score : 0.8998377939983779\n",
      "\n",
      "--------------------------\n",
      "Bias Random Forest : 0.10736009732360097\n",
      "Bias Gaussian Naive Bayes : 0.0020275750202757292\n",
      "Bias Support Vector Machine : 0.007096512570965108\n",
      "\n",
      "--------------------------\n",
      "Fold 5\n",
      "-------------------------------------\n",
      "Train Random Forest score : 0.9993917274939172\n",
      "Train Gaussian Naive Bayes score : 0.5822181670721817\n",
      "Train Support Vector Machine score : 0.8955798864557989\n",
      "\n",
      "--------------------------\n",
      "Test Random Forest score : 0.8933495539334956\n",
      "Test Gaussian Naive Bayes score : 0.5851581508515815\n",
      "Test Support Vector Machine score : 0.883617193836172\n",
      "\n",
      "--------------------------\n",
      "Bias Random Forest : 0.10604217356042167\n",
      "Bias Gaussian Naive Bayes : 0.0029399837793998573\n",
      "Bias Support Vector Machine : 0.011962692619626902\n",
      "\n",
      "--------------------------\n",
      "Mean Scores and Bias\n",
      "-------------------------------------\n",
      "Train Random Forest : 0.9994525547445257\n",
      "Train Gaussian Naive Bayes : 0.5927007299270073\n",
      "Train Support Vector Machine : 0.8931062449310625\n",
      "\n",
      "--------------------------\n",
      "Test Random Forest : 0.8945660989456611\n",
      "Test Gaussian Naive Bayes : 0.5892944038929441\n",
      "Test Support Vector Machine : 0.8921330089213301\n",
      "\n",
      "--------------------------\n",
      "Bias Random Forest : 0.10488645579886458\n",
      "Bias Gaussian Naive Bayes : 0.0034063260340632118\n",
      "Bias Support Vector Machine : 0.0009732360097324255\n"
     ]
    }
   ],
   "source": [
    "N = 5\n",
    "skf = StratifiedKFold(n_splits=N, random_state=42, shuffle=True)\n",
    "random_forest = RandomForestClassifier()\n",
    "gnb = GaussianNB()\n",
    "svm = SVC()\n",
    "\n",
    "random_forest_test_scores = np.array([])\n",
    "gnb_test_scores = np.array([])\n",
    "svm_test_scores = np.array([])\n",
    "\n",
    "random_forest_train_scores = np.array([])\n",
    "gnb_train_scores = np.array([])\n",
    "svm_train_scores = np.array([])\n",
    "\n",
    "for fold, (trn_idx, val_idx) in enumerate(skf.split(X, y), 1):\n",
    "    print(f\"Fold {fold}\\n-------------------------------------\")\n",
    "    \n",
    "    random_forest.fit(X.iloc[trn_idx], y.iloc[trn_idx])\n",
    "    gnb.fit(X.iloc[trn_idx], y.iloc[trn_idx])\n",
    "    svm.fit(X.iloc[trn_idx], y.iloc[trn_idx])\n",
    "\n",
    "    random_forest_test_score = random_forest.score(X.iloc[val_idx], y.iloc[val_idx])\n",
    "    gnb_test_score = gnb.score(X.iloc[val_idx], y.iloc[val_idx])\n",
    "    svm_test_score = svm.score(X.iloc[val_idx], y.iloc[val_idx])\n",
    "\n",
    "    random_forest_test_scores = np.append(random_forest_test_scores, \n",
    "                                          random_forest_test_score)\n",
    "    \n",
    "    gnb_test_scores = np.append(gnb_test_scores, \n",
    "                                gnb_test_score)\n",
    "    \n",
    "    svm_test_scores = np.append(svm_test_scores, \n",
    "                                svm_test_score)\n",
    "    \n",
    "    random_forest_train_score = random_forest.score(X.iloc[trn_idx], y.iloc[trn_idx])\n",
    "    gnb_train_score = gnb.score(X.iloc[trn_idx], y.iloc[trn_idx])\n",
    "    svm_train_score = svm.score(X.iloc[trn_idx], y.iloc[trn_idx])\n",
    "\n",
    "    random_forest_train_scores = np.append(random_forest_train_scores, \n",
    "                                          random_forest_train_score)\n",
    "    \n",
    "    gnb_train_scores = np.append(gnb_train_scores, \n",
    "                                gnb_train_score)\n",
    "    \n",
    "    svm_train_scores = np.append(svm_train_scores, \n",
    "                                svm_train_score)\n",
    "    \n",
    "    random_forest_bias = abs(random_forest_train_score - random_forest_test_score)\n",
    "    gnb_bias = abs(gnb_train_score - gnb_test_score)\n",
    "    svm_bias = abs(svm_train_score - svm_test_score)\n",
    "    \n",
    "    test_scores = {\"Random Forest\":random_forest_test_score,\n",
    "                   \"Gaussian Naive Bayes\":gnb_test_score,\n",
    "                   \"Support Vector Machine\":svm_test_score}\n",
    "\n",
    "    train_scores = {\"Random Forest\":random_forest_train_score,\n",
    "                    \"Gaussian Naive Bayes\":gnb_train_score,\n",
    "                    \"Support Vector Machine\":svm_train_score}\n",
    "\n",
    "    biases = {\"Random Forest\":random_forest_bias,\n",
    "              \"Gaussian Naive Bayes\":gnb_bias,\n",
    "              \"Support Vector Machine\":svm_bias}\n",
    "\n",
    "    for model, score in train_scores.items():\n",
    "        print(f\"Train {model} score : {score}\")\n",
    "\n",
    "    print(\"\\n--------------------------\")\n",
    "\n",
    "    for model, score in test_scores.items():\n",
    "        print(f\"Test {model} score : {score}\")\n",
    "\n",
    "    print(\"\\n--------------------------\")\n",
    "\n",
    "    for model, bias in biases.items():\n",
    "        print(f\"Bias {model} : {bias}\")\n",
    "    \n",
    "    print(\"\\n--------------------------\")\n",
    "\n",
    "random_forest_mean_test_score = random_forest_test_scores.mean()\n",
    "gnb_mean_test_score = gnb_test_scores.mean()\n",
    "svm_mean_test_score = svm_test_scores.mean()\n",
    "\n",
    "random_forest_mean_train_score = random_forest_train_scores.mean()\n",
    "gnb_mean_train_score = gnb_train_scores.mean()\n",
    "svm_mean_train_score = svm_train_scores.mean()\n",
    "\n",
    "random_forest_mean_bias = abs(random_forest_mean_train_score - random_forest_mean_test_score)\n",
    "gnb_mean_bias = abs(gnb_mean_train_score - gnb_mean_test_score)\n",
    "svm_mean_bias = abs(svm_mean_train_score - svm_mean_test_score)\n",
    "\n",
    "test_mean_scores = {\"Random Forest\":random_forest_mean_test_score,\n",
    "                    \"Gaussian Naive Bayes\":gnb_mean_test_score,\n",
    "                    \"Support Vector Machine\":svm_mean_test_score}\n",
    "\n",
    "train_mean_scores = {\"Random Forest\":random_forest_mean_train_score,\n",
    "                     \"Gaussian Naive Bayes\":gnb_mean_train_score,\n",
    "                     \"Support Vector Machine\":svm_mean_train_score}\n",
    "\n",
    "mean_biases = {\"Random Forest\":random_forest_mean_bias,\n",
    "               \"Gaussian Naive Bayes\":gnb_mean_bias,\n",
    "               \"Support Vector Machine\":svm_mean_bias}\n",
    "    \n",
    "print(\"Mean Scores and Bias\\n-------------------------------------\")\n",
    "\n",
    "for model, score in train_mean_scores.items():\n",
    "  print(f\"Train {model} : {score}\")\n",
    "\n",
    "print(\"\\n--------------------------\")\n",
    "\n",
    "for model, score in test_mean_scores.items():\n",
    "  print(f\"Test {model} : {score}\")\n",
    "\n",
    "print(\"\\n--------------------------\")\n",
    "\n",
    "for model, bias in mean_biases.items():\n",
    "  print(f\"Bias {model} : {bias}\")"
   ]
  }
 ],
 "metadata": {
  "colab": {
   "collapsed_sections": [],
   "name": "Modelling_Shoppers.ipynb",
   "provenance": [],
   "toc_visible": true
  },
  "kernelspec": {
   "display_name": "Python 3",
   "language": "python",
   "name": "python3"
  },
  "language_info": {
   "codemirror_mode": {
    "name": "ipython",
    "version": 3
   },
   "file_extension": ".py",
   "mimetype": "text/x-python",
   "name": "python",
   "nbconvert_exporter": "python",
   "pygments_lexer": "ipython3",
   "version": "3.8.3"
  }
 },
 "nbformat": 4,
 "nbformat_minor": 1
}
