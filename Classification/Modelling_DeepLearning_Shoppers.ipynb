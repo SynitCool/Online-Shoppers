{
  "nbformat": 4,
  "nbformat_minor": 0,
  "metadata": {
    "kernelspec": {
      "display_name": "Python 3",
      "language": "python",
      "name": "python3"
    },
    "language_info": {
      "codemirror_mode": {
        "name": "ipython",
        "version": 3
      },
      "file_extension": ".py",
      "mimetype": "text/x-python",
      "name": "python",
      "nbconvert_exporter": "python",
      "pygments_lexer": "ipython3",
      "version": "3.8.3"
    },
    "colab": {
      "name": "Modelling_DeepLearning_Shoppers.ipynb",
      "provenance": [],
      "collapsed_sections": [],
      "toc_visible": true
    }
  },
  "cells": [
    {
      "cell_type": "code",
      "metadata": {
        "id": "UNKBy9l_Q8T_"
      },
      "source": [
        "import pandas as pd\n",
        "import numpy as np\n",
        "\n",
        "import matplotlib.pyplot as plt\n",
        "import seaborn as sns\n",
        "\n",
        "from sklearn.neural_network import MLPClassifier\n",
        "from sklearn.model_selection import train_test_split, StratifiedKFold\n",
        "from sklearn.metrics import roc_curve, auc, roc_auc_score"
      ],
      "execution_count": 48,
      "outputs": []
    },
    {
      "cell_type": "code",
      "metadata": {
        "id": "bgqofF9zQ8UF",
        "colab": {
          "base_uri": "https://localhost:8080/",
          "height": 309
        },
        "outputId": "3db4e5bf-47bd-4138-df9f-cebc38ad93c5"
      },
      "source": [
        "# Online Shopper\\Classification\\Dataset\\Engineered\\online_shoppers_intention_Engineered.csv\n",
        "\n",
        "df = pd.read_csv(\"online_shoppers_intention_Engineered.csv\")\n",
        "\n",
        "df.head()"
      ],
      "execution_count": 49,
      "outputs": [
        {
          "output_type": "execute_result",
          "data": {
            "text/html": [
              "<div>\n",
              "<style scoped>\n",
              "    .dataframe tbody tr th:only-of-type {\n",
              "        vertical-align: middle;\n",
              "    }\n",
              "\n",
              "    .dataframe tbody tr th {\n",
              "        vertical-align: top;\n",
              "    }\n",
              "\n",
              "    .dataframe thead th {\n",
              "        text-align: right;\n",
              "    }\n",
              "</style>\n",
              "<table border=\"1\" class=\"dataframe\">\n",
              "  <thead>\n",
              "    <tr style=\"text-align: right;\">\n",
              "      <th></th>\n",
              "      <th>Administrative</th>\n",
              "      <th>Administrative_Duration</th>\n",
              "      <th>Informational</th>\n",
              "      <th>Informational_Duration</th>\n",
              "      <th>ProductRelated</th>\n",
              "      <th>ProductRelated_Duration</th>\n",
              "      <th>BounceRates</th>\n",
              "      <th>ExitRates</th>\n",
              "      <th>PageValues</th>\n",
              "      <th>SpecialDay</th>\n",
              "      <th>Month</th>\n",
              "      <th>OperatingSystems</th>\n",
              "      <th>Browser</th>\n",
              "      <th>Region</th>\n",
              "      <th>TrafficType</th>\n",
              "      <th>VisitorType</th>\n",
              "      <th>Weekend</th>\n",
              "      <th>Revenue</th>\n",
              "      <th>DislikeRates</th>\n",
              "      <th>TimeSpent</th>\n",
              "    </tr>\n",
              "  </thead>\n",
              "  <tbody>\n",
              "    <tr>\n",
              "      <th>0</th>\n",
              "      <td>(-0.001, 1.0]</td>\n",
              "      <td>0.0</td>\n",
              "      <td>(-0.001, 2.0]</td>\n",
              "      <td>0.0</td>\n",
              "      <td>(-0.001, 1.0]</td>\n",
              "      <td>0.000000</td>\n",
              "      <td>0.20</td>\n",
              "      <td>0.20</td>\n",
              "      <td>0.0</td>\n",
              "      <td>0.0</td>\n",
              "      <td>Feb</td>\n",
              "      <td>(0.999, 2.0]</td>\n",
              "      <td>(0.999, 2.0]</td>\n",
              "      <td>(0.999, 3.0]</td>\n",
              "      <td>(0.999, 2.0]</td>\n",
              "      <td>Returning_Visitor</td>\n",
              "      <td>False</td>\n",
              "      <td>False</td>\n",
              "      <td>100.0</td>\n",
              "      <td>0.000000</td>\n",
              "    </tr>\n",
              "    <tr>\n",
              "      <th>1</th>\n",
              "      <td>(-0.001, 1.0]</td>\n",
              "      <td>0.0</td>\n",
              "      <td>(-0.001, 2.0]</td>\n",
              "      <td>0.0</td>\n",
              "      <td>(1.0, 2.0]</td>\n",
              "      <td>64.000000</td>\n",
              "      <td>0.00</td>\n",
              "      <td>0.10</td>\n",
              "      <td>0.0</td>\n",
              "      <td>0.0</td>\n",
              "      <td>Feb</td>\n",
              "      <td>(0.999, 2.0]</td>\n",
              "      <td>(0.999, 2.0]</td>\n",
              "      <td>(0.999, 3.0]</td>\n",
              "      <td>(0.999, 2.0]</td>\n",
              "      <td>Returning_Visitor</td>\n",
              "      <td>False</td>\n",
              "      <td>False</td>\n",
              "      <td>25.0</td>\n",
              "      <td>64.000000</td>\n",
              "    </tr>\n",
              "    <tr>\n",
              "      <th>2</th>\n",
              "      <td>(-0.001, 1.0]</td>\n",
              "      <td>0.0</td>\n",
              "      <td>(-0.001, 2.0]</td>\n",
              "      <td>0.0</td>\n",
              "      <td>(-0.001, 1.0]</td>\n",
              "      <td>0.000000</td>\n",
              "      <td>0.20</td>\n",
              "      <td>0.20</td>\n",
              "      <td>0.0</td>\n",
              "      <td>0.0</td>\n",
              "      <td>Feb</td>\n",
              "      <td>(2.0, 8.0]</td>\n",
              "      <td>(0.999, 2.0]</td>\n",
              "      <td>(3.0, 9.0]</td>\n",
              "      <td>(2.0, 3.0]</td>\n",
              "      <td>Returning_Visitor</td>\n",
              "      <td>False</td>\n",
              "      <td>False</td>\n",
              "      <td>100.0</td>\n",
              "      <td>0.000000</td>\n",
              "    </tr>\n",
              "    <tr>\n",
              "      <th>3</th>\n",
              "      <td>(-0.001, 1.0]</td>\n",
              "      <td>0.0</td>\n",
              "      <td>(-0.001, 2.0]</td>\n",
              "      <td>0.0</td>\n",
              "      <td>(1.0, 2.0]</td>\n",
              "      <td>2.666667</td>\n",
              "      <td>0.05</td>\n",
              "      <td>0.14</td>\n",
              "      <td>0.0</td>\n",
              "      <td>0.0</td>\n",
              "      <td>Feb</td>\n",
              "      <td>(2.0, 8.0]</td>\n",
              "      <td>(0.999, 2.0]</td>\n",
              "      <td>(0.999, 3.0]</td>\n",
              "      <td>(3.0, 20.0]</td>\n",
              "      <td>Returning_Visitor</td>\n",
              "      <td>False</td>\n",
              "      <td>False</td>\n",
              "      <td>47.5</td>\n",
              "      <td>2.666667</td>\n",
              "    </tr>\n",
              "    <tr>\n",
              "      <th>4</th>\n",
              "      <td>(-0.001, 1.0]</td>\n",
              "      <td>0.0</td>\n",
              "      <td>(-0.001, 2.0]</td>\n",
              "      <td>0.0</td>\n",
              "      <td>(9.0, 10.0]</td>\n",
              "      <td>627.500000</td>\n",
              "      <td>0.02</td>\n",
              "      <td>0.05</td>\n",
              "      <td>0.0</td>\n",
              "      <td>0.0</td>\n",
              "      <td>Feb</td>\n",
              "      <td>(2.0, 8.0]</td>\n",
              "      <td>(2.0, 13.0]</td>\n",
              "      <td>(0.999, 3.0]</td>\n",
              "      <td>(3.0, 20.0]</td>\n",
              "      <td>Returning_Visitor</td>\n",
              "      <td>True</td>\n",
              "      <td>False</td>\n",
              "      <td>17.5</td>\n",
              "      <td>627.500000</td>\n",
              "    </tr>\n",
              "  </tbody>\n",
              "</table>\n",
              "</div>"
            ],
            "text/plain": [
              "  Administrative  Administrative_Duration  ... DislikeRates   TimeSpent\n",
              "0  (-0.001, 1.0]                      0.0  ...        100.0    0.000000\n",
              "1  (-0.001, 1.0]                      0.0  ...         25.0   64.000000\n",
              "2  (-0.001, 1.0]                      0.0  ...        100.0    0.000000\n",
              "3  (-0.001, 1.0]                      0.0  ...         47.5    2.666667\n",
              "4  (-0.001, 1.0]                      0.0  ...         17.5  627.500000\n",
              "\n",
              "[5 rows x 20 columns]"
            ]
          },
          "metadata": {
            "tags": []
          },
          "execution_count": 49
        }
      ]
    },
    {
      "cell_type": "code",
      "metadata": {
        "id": "1ytu7vjXQ8UI",
        "colab": {
          "base_uri": "https://localhost:8080/",
          "height": 0
        },
        "outputId": "87aadeaa-1ae1-49db-f9c2-e21b1fdefea1"
      },
      "source": [
        "drop_features_duration = []\n",
        "drop_features_rates = [\"BounceRates\", \"ExitRates\"]\n",
        "drop_features_other = [\"SpecialDay\"]\n",
        "\n",
        "for column in df.columns:\n",
        "    if \"_Duration\" in column or \"Spent\" in column:\n",
        "        drop_features_duration.append(column)\n",
        "        \n",
        "df[\"Weekend\"] = df[\"Weekend\"].astype(str)\n",
        "\n",
        "print(drop_features_duration)"
      ],
      "execution_count": 50,
      "outputs": [
        {
          "output_type": "stream",
          "text": [
            "['Administrative_Duration', 'Informational_Duration', 'ProductRelated_Duration', 'TimeSpent']\n"
          ],
          "name": "stdout"
        }
      ]
    },
    {
      "cell_type": "code",
      "metadata": {
        "scrolled": true,
        "id": "HdnUf4ysQ8UJ",
        "colab": {
          "base_uri": "https://localhost:8080/",
          "height": 309
        },
        "outputId": "a79a9faa-aad3-48d4-b5cd-f002362bd543"
      },
      "source": [
        "df = df.drop(columns=drop_features_duration)\n",
        "df = df.drop(columns=drop_features_rates)\n",
        "df = df.drop(columns=drop_features_other)\n",
        "\n",
        "df.head()"
      ],
      "execution_count": 51,
      "outputs": [
        {
          "output_type": "execute_result",
          "data": {
            "text/html": [
              "<div>\n",
              "<style scoped>\n",
              "    .dataframe tbody tr th:only-of-type {\n",
              "        vertical-align: middle;\n",
              "    }\n",
              "\n",
              "    .dataframe tbody tr th {\n",
              "        vertical-align: top;\n",
              "    }\n",
              "\n",
              "    .dataframe thead th {\n",
              "        text-align: right;\n",
              "    }\n",
              "</style>\n",
              "<table border=\"1\" class=\"dataframe\">\n",
              "  <thead>\n",
              "    <tr style=\"text-align: right;\">\n",
              "      <th></th>\n",
              "      <th>Administrative</th>\n",
              "      <th>Informational</th>\n",
              "      <th>ProductRelated</th>\n",
              "      <th>PageValues</th>\n",
              "      <th>Month</th>\n",
              "      <th>OperatingSystems</th>\n",
              "      <th>Browser</th>\n",
              "      <th>Region</th>\n",
              "      <th>TrafficType</th>\n",
              "      <th>VisitorType</th>\n",
              "      <th>Weekend</th>\n",
              "      <th>Revenue</th>\n",
              "      <th>DislikeRates</th>\n",
              "    </tr>\n",
              "  </thead>\n",
              "  <tbody>\n",
              "    <tr>\n",
              "      <th>0</th>\n",
              "      <td>(-0.001, 1.0]</td>\n",
              "      <td>(-0.001, 2.0]</td>\n",
              "      <td>(-0.001, 1.0]</td>\n",
              "      <td>0.0</td>\n",
              "      <td>Feb</td>\n",
              "      <td>(0.999, 2.0]</td>\n",
              "      <td>(0.999, 2.0]</td>\n",
              "      <td>(0.999, 3.0]</td>\n",
              "      <td>(0.999, 2.0]</td>\n",
              "      <td>Returning_Visitor</td>\n",
              "      <td>False</td>\n",
              "      <td>False</td>\n",
              "      <td>100.0</td>\n",
              "    </tr>\n",
              "    <tr>\n",
              "      <th>1</th>\n",
              "      <td>(-0.001, 1.0]</td>\n",
              "      <td>(-0.001, 2.0]</td>\n",
              "      <td>(1.0, 2.0]</td>\n",
              "      <td>0.0</td>\n",
              "      <td>Feb</td>\n",
              "      <td>(0.999, 2.0]</td>\n",
              "      <td>(0.999, 2.0]</td>\n",
              "      <td>(0.999, 3.0]</td>\n",
              "      <td>(0.999, 2.0]</td>\n",
              "      <td>Returning_Visitor</td>\n",
              "      <td>False</td>\n",
              "      <td>False</td>\n",
              "      <td>25.0</td>\n",
              "    </tr>\n",
              "    <tr>\n",
              "      <th>2</th>\n",
              "      <td>(-0.001, 1.0]</td>\n",
              "      <td>(-0.001, 2.0]</td>\n",
              "      <td>(-0.001, 1.0]</td>\n",
              "      <td>0.0</td>\n",
              "      <td>Feb</td>\n",
              "      <td>(2.0, 8.0]</td>\n",
              "      <td>(0.999, 2.0]</td>\n",
              "      <td>(3.0, 9.0]</td>\n",
              "      <td>(2.0, 3.0]</td>\n",
              "      <td>Returning_Visitor</td>\n",
              "      <td>False</td>\n",
              "      <td>False</td>\n",
              "      <td>100.0</td>\n",
              "    </tr>\n",
              "    <tr>\n",
              "      <th>3</th>\n",
              "      <td>(-0.001, 1.0]</td>\n",
              "      <td>(-0.001, 2.0]</td>\n",
              "      <td>(1.0, 2.0]</td>\n",
              "      <td>0.0</td>\n",
              "      <td>Feb</td>\n",
              "      <td>(2.0, 8.0]</td>\n",
              "      <td>(0.999, 2.0]</td>\n",
              "      <td>(0.999, 3.0]</td>\n",
              "      <td>(3.0, 20.0]</td>\n",
              "      <td>Returning_Visitor</td>\n",
              "      <td>False</td>\n",
              "      <td>False</td>\n",
              "      <td>47.5</td>\n",
              "    </tr>\n",
              "    <tr>\n",
              "      <th>4</th>\n",
              "      <td>(-0.001, 1.0]</td>\n",
              "      <td>(-0.001, 2.0]</td>\n",
              "      <td>(9.0, 10.0]</td>\n",
              "      <td>0.0</td>\n",
              "      <td>Feb</td>\n",
              "      <td>(2.0, 8.0]</td>\n",
              "      <td>(2.0, 13.0]</td>\n",
              "      <td>(0.999, 3.0]</td>\n",
              "      <td>(3.0, 20.0]</td>\n",
              "      <td>Returning_Visitor</td>\n",
              "      <td>True</td>\n",
              "      <td>False</td>\n",
              "      <td>17.5</td>\n",
              "    </tr>\n",
              "  </tbody>\n",
              "</table>\n",
              "</div>"
            ],
            "text/plain": [
              "  Administrative  Informational ProductRelated  ...  Weekend Revenue DislikeRates\n",
              "0  (-0.001, 1.0]  (-0.001, 2.0]  (-0.001, 1.0]  ...    False   False        100.0\n",
              "1  (-0.001, 1.0]  (-0.001, 2.0]     (1.0, 2.0]  ...    False   False         25.0\n",
              "2  (-0.001, 1.0]  (-0.001, 2.0]  (-0.001, 1.0]  ...    False   False        100.0\n",
              "3  (-0.001, 1.0]  (-0.001, 2.0]     (1.0, 2.0]  ...    False   False         47.5\n",
              "4  (-0.001, 1.0]  (-0.001, 2.0]    (9.0, 10.0]  ...     True   False         17.5\n",
              "\n",
              "[5 rows x 13 columns]"
            ]
          },
          "metadata": {
            "tags": []
          },
          "execution_count": 51
        }
      ]
    },
    {
      "cell_type": "code",
      "metadata": {
        "id": "oMJi20nSQ8UK",
        "colab": {
          "base_uri": "https://localhost:8080/",
          "height": 0
        },
        "outputId": "e594ff12-3190-498b-bc79-b175070435f6"
      },
      "source": [
        "df.info()"
      ],
      "execution_count": 52,
      "outputs": [
        {
          "output_type": "stream",
          "text": [
            "<class 'pandas.core.frame.DataFrame'>\n",
            "RangeIndex: 12330 entries, 0 to 12329\n",
            "Data columns (total 13 columns):\n",
            " #   Column            Non-Null Count  Dtype  \n",
            "---  ------            --------------  -----  \n",
            " 0   Administrative    12330 non-null  object \n",
            " 1   Informational     12330 non-null  object \n",
            " 2   ProductRelated    12330 non-null  object \n",
            " 3   PageValues        12330 non-null  float64\n",
            " 4   Month             12330 non-null  object \n",
            " 5   OperatingSystems  12330 non-null  object \n",
            " 6   Browser           12330 non-null  object \n",
            " 7   Region            12330 non-null  object \n",
            " 8   TrafficType       12330 non-null  object \n",
            " 9   VisitorType       12330 non-null  object \n",
            " 10  Weekend           12330 non-null  object \n",
            " 11  Revenue           12330 non-null  bool   \n",
            " 12  DislikeRates      12330 non-null  float64\n",
            "dtypes: bool(1), float64(2), object(10)\n",
            "memory usage: 1.1+ MB\n"
          ],
          "name": "stdout"
        }
      ]
    },
    {
      "cell_type": "code",
      "metadata": {
        "scrolled": true,
        "id": "A2pcfePCQ8UL",
        "colab": {
          "base_uri": "https://localhost:8080/",
          "height": 297
        },
        "outputId": "5943df2e-5161-489e-cec1-180ac70fd1ee"
      },
      "source": [
        "df.describe()"
      ],
      "execution_count": 53,
      "outputs": [
        {
          "output_type": "execute_result",
          "data": {
            "text/html": [
              "<div>\n",
              "<style scoped>\n",
              "    .dataframe tbody tr th:only-of-type {\n",
              "        vertical-align: middle;\n",
              "    }\n",
              "\n",
              "    .dataframe tbody tr th {\n",
              "        vertical-align: top;\n",
              "    }\n",
              "\n",
              "    .dataframe thead th {\n",
              "        text-align: right;\n",
              "    }\n",
              "</style>\n",
              "<table border=\"1\" class=\"dataframe\">\n",
              "  <thead>\n",
              "    <tr style=\"text-align: right;\">\n",
              "      <th></th>\n",
              "      <th>PageValues</th>\n",
              "      <th>DislikeRates</th>\n",
              "    </tr>\n",
              "  </thead>\n",
              "  <tbody>\n",
              "    <tr>\n",
              "      <th>count</th>\n",
              "      <td>12330.000000</td>\n",
              "      <td>12330.000000</td>\n",
              "    </tr>\n",
              "    <tr>\n",
              "      <th>mean</th>\n",
              "      <td>5.889258</td>\n",
              "      <td>16.316045</td>\n",
              "    </tr>\n",
              "    <tr>\n",
              "      <th>std</th>\n",
              "      <td>18.568437</td>\n",
              "      <td>23.737475</td>\n",
              "    </tr>\n",
              "    <tr>\n",
              "      <th>min</th>\n",
              "      <td>0.000000</td>\n",
              "      <td>0.000000</td>\n",
              "    </tr>\n",
              "    <tr>\n",
              "      <th>25%</th>\n",
              "      <td>0.000000</td>\n",
              "      <td>3.953208</td>\n",
              "    </tr>\n",
              "    <tr>\n",
              "      <th>50%</th>\n",
              "      <td>0.000000</td>\n",
              "      <td>7.925522</td>\n",
              "    </tr>\n",
              "    <tr>\n",
              "      <th>75%</th>\n",
              "      <td>0.000000</td>\n",
              "      <td>16.270863</td>\n",
              "    </tr>\n",
              "    <tr>\n",
              "      <th>max</th>\n",
              "      <td>361.763742</td>\n",
              "      <td>100.000000</td>\n",
              "    </tr>\n",
              "  </tbody>\n",
              "</table>\n",
              "</div>"
            ],
            "text/plain": [
              "         PageValues  DislikeRates\n",
              "count  12330.000000  12330.000000\n",
              "mean       5.889258     16.316045\n",
              "std       18.568437     23.737475\n",
              "min        0.000000      0.000000\n",
              "25%        0.000000      3.953208\n",
              "50%        0.000000      7.925522\n",
              "75%        0.000000     16.270863\n",
              "max      361.763742    100.000000"
            ]
          },
          "metadata": {
            "tags": []
          },
          "execution_count": 53
        }
      ]
    },
    {
      "cell_type": "code",
      "metadata": {
        "id": "9Uf7EOnuQ8UM",
        "colab": {
          "base_uri": "https://localhost:8080/",
          "height": 0
        },
        "outputId": "bee26436-8c42-46cb-fb24-36b1c6514617"
      },
      "source": [
        "object_features = []\n",
        "\n",
        "for column in df.columns:\n",
        "    if df[column].dtype != \"float64\" and column != \"Revenue\":\n",
        "        object_features.append(column)\n",
        "        \n",
        "object_features"
      ],
      "execution_count": 54,
      "outputs": [
        {
          "output_type": "execute_result",
          "data": {
            "text/plain": [
              "['Administrative',\n",
              " 'Informational',\n",
              " 'ProductRelated',\n",
              " 'Month',\n",
              " 'OperatingSystems',\n",
              " 'Browser',\n",
              " 'Region',\n",
              " 'TrafficType',\n",
              " 'VisitorType',\n",
              " 'Weekend']"
            ]
          },
          "metadata": {
            "tags": []
          },
          "execution_count": 54
        }
      ]
    },
    {
      "cell_type": "code",
      "metadata": {
        "id": "DEIhdaVrQ8UN"
      },
      "source": [
        "df = pd.get_dummies(df, columns = object_features, drop_first = True)"
      ],
      "execution_count": 55,
      "outputs": []
    },
    {
      "cell_type": "code",
      "metadata": {
        "id": "q7V0QktSQ8UN",
        "colab": {
          "base_uri": "https://localhost:8080/",
          "height": 700
        },
        "outputId": "a207471d-d824-446f-ccd7-c57a839f5765"
      },
      "source": [
        "fig, ax = plt.subplots(figsize=(15,9))\n",
        "\n",
        "sns.heatmap(abs(df.corr()))"
      ],
      "execution_count": 56,
      "outputs": [
        {
          "output_type": "execute_result",
          "data": {
            "text/plain": [
              "<matplotlib.axes._subplots.AxesSubplot at 0x7f84e17aaa10>"
            ]
          },
          "metadata": {
            "tags": []
          },
          "execution_count": 56
        },
        {
          "output_type": "display_data",
          "data": {
            "image/png": "[encoded data removed]",
            "text/plain": [
              "<Figure size 1080x648 with 2 Axes>"
            ]
          },
          "metadata": {
            "tags": [],
            "needs_background": "light"
          }
        }
      ]
    },
    {
      "cell_type": "code",
      "metadata": {
        "id": "d0znSXi3Q8UO",
        "colab": {
          "base_uri": "https://localhost:8080/",
          "height": 0
        },
        "outputId": "99fc9c07-707a-4fa5-da0f-a17bf3035a7c"
      },
      "source": [
        "corr = df.corr()\n",
        "\n",
        "multicor = {}\n",
        "\n",
        "for column in corr.columns:\n",
        "    for index in corr.index:\n",
        "        if corr.loc[index][column] > 0.3 and corr.loc[index][column] != 1.0:\n",
        "            multicor[(index, column)] = corr.loc[index][column]\n",
        "            \n",
        "multicor"
      ],
      "execution_count": 57,
      "outputs": [
        {
          "output_type": "execute_result",
          "data": {
            "text/plain": [
              "{('PageValues', 'Revenue'): 0.49256929525114634,\n",
              " ('Revenue', 'PageValues'): 0.49256929525114634}"
            ]
          },
          "metadata": {
            "tags": []
          },
          "execution_count": 57
        }
      ]
    },
    {
      "cell_type": "markdown",
      "metadata": {
        "id": "6Qq56AYTQ8UP"
      },
      "source": [
        "# Modelling"
      ]
    },
    {
      "cell_type": "code",
      "metadata": {
        "id": "laLwmxGUQ8UQ"
      },
      "source": [
        "X = df.drop(columns=[\"Revenue\"])\n",
        "Y = df[\"Revenue\"]"
      ],
      "execution_count": 58,
      "outputs": []
    },
    {
      "cell_type": "code",
      "metadata": {
        "id": "87sKGBAfQ8UQ",
        "colab": {
          "base_uri": "https://localhost:8080/",
          "height": 241
        },
        "outputId": "868a83a9-8d26-4ab9-a996-11b28feff5a3"
      },
      "source": [
        "X.head()"
      ],
      "execution_count": 59,
      "outputs": [
        {
          "output_type": "execute_result",
          "data": {
            "text/html": [
              "<div>\n",
              "<style scoped>\n",
              "    .dataframe tbody tr th:only-of-type {\n",
              "        vertical-align: middle;\n",
              "    }\n",
              "\n",
              "    .dataframe tbody tr th {\n",
              "        vertical-align: top;\n",
              "    }\n",
              "\n",
              "    .dataframe thead th {\n",
              "        text-align: right;\n",
              "    }\n",
              "</style>\n",
              "<table border=\"1\" class=\"dataframe\">\n",
              "  <thead>\n",
              "    <tr style=\"text-align: right;\">\n",
              "      <th></th>\n",
              "      <th>PageValues</th>\n",
              "      <th>DislikeRates</th>\n",
              "      <th>Administrative_(1.0, 27.0]</th>\n",
              "      <th>Informational_(2.0, 27.0]</th>\n",
              "      <th>ProductRelated_(1.0, 2.0]</th>\n",
              "      <th>ProductRelated_(10.0, 11.0]</th>\n",
              "      <th>ProductRelated_(11.0, 12.0]</th>\n",
              "      <th>ProductRelated_(12.0, 14.0]</th>\n",
              "      <th>ProductRelated_(133.0, 705.0]</th>\n",
              "      <th>ProductRelated_(14.0, 15.0]</th>\n",
              "      <th>ProductRelated_(15.0, 17.0]</th>\n",
              "      <th>ProductRelated_(17.0, 19.0]</th>\n",
              "      <th>ProductRelated_(19.0, 21.0]</th>\n",
              "      <th>ProductRelated_(2.0, 3.0]</th>\n",
              "      <th>ProductRelated_(21.0, 23.0]</th>\n",
              "      <th>ProductRelated_(23.0, 25.0]</th>\n",
              "      <th>ProductRelated_(25.0, 27.0]</th>\n",
              "      <th>ProductRelated_(27.0, 30.0]</th>\n",
              "      <th>ProductRelated_(3.0, 4.0]</th>\n",
              "      <th>ProductRelated_(30.0, 33.0]</th>\n",
              "      <th>ProductRelated_(33.0, 37.0]</th>\n",
              "      <th>ProductRelated_(37.0, 41.0]</th>\n",
              "      <th>ProductRelated_(4.0, 5.0]</th>\n",
              "      <th>ProductRelated_(41.0, 47.0]</th>\n",
              "      <th>ProductRelated_(47.0, 54.0]</th>\n",
              "      <th>ProductRelated_(5.0, 6.0]</th>\n",
              "      <th>ProductRelated_(54.0, 62.161]</th>\n",
              "      <th>ProductRelated_(6.0, 7.0]</th>\n",
              "      <th>ProductRelated_(62.161, 76.0]</th>\n",
              "      <th>ProductRelated_(7.0, 8.0]</th>\n",
              "      <th>ProductRelated_(76.0, 95.0]</th>\n",
              "      <th>ProductRelated_(8.0, 9.0]</th>\n",
              "      <th>ProductRelated_(9.0, 10.0]</th>\n",
              "      <th>ProductRelated_(95.0, 133.0]</th>\n",
              "      <th>Month_Dec</th>\n",
              "      <th>Month_Feb</th>\n",
              "      <th>Month_Jul</th>\n",
              "      <th>Month_June</th>\n",
              "      <th>Month_Mar</th>\n",
              "      <th>Month_May</th>\n",
              "      <th>Month_Nov</th>\n",
              "      <th>Month_Oct</th>\n",
              "      <th>Month_Sep</th>\n",
              "      <th>OperatingSystems_(2.0, 8.0]</th>\n",
              "      <th>Browser_(2.0, 13.0]</th>\n",
              "      <th>Region_(3.0, 9.0]</th>\n",
              "      <th>TrafficType_(2.0, 3.0]</th>\n",
              "      <th>TrafficType_(3.0, 20.0]</th>\n",
              "      <th>VisitorType_Other</th>\n",
              "      <th>VisitorType_Returning_Visitor</th>\n",
              "      <th>Weekend_True</th>\n",
              "    </tr>\n",
              "  </thead>\n",
              "  <tbody>\n",
              "    <tr>\n",
              "      <th>0</th>\n",
              "      <td>0.0</td>\n",
              "      <td>100.0</td>\n",
              "      <td>0</td>\n",
              "      <td>0</td>\n",
              "      <td>0</td>\n",
              "      <td>0</td>\n",
              "      <td>0</td>\n",
              "      <td>0</td>\n",
              "      <td>0</td>\n",
              "      <td>0</td>\n",
              "      <td>0</td>\n",
              "      <td>0</td>\n",
              "      <td>0</td>\n",
              "      <td>0</td>\n",
              "      <td>0</td>\n",
              "      <td>0</td>\n",
              "      <td>0</td>\n",
              "      <td>0</td>\n",
              "      <td>0</td>\n",
              "      <td>0</td>\n",
              "      <td>0</td>\n",
              "      <td>0</td>\n",
              "      <td>0</td>\n",
              "      <td>0</td>\n",
              "      <td>0</td>\n",
              "      <td>0</td>\n",
              "      <td>0</td>\n",
              "      <td>0</td>\n",
              "      <td>0</td>\n",
              "      <td>0</td>\n",
              "      <td>0</td>\n",
              "      <td>0</td>\n",
              "      <td>0</td>\n",
              "      <td>0</td>\n",
              "      <td>0</td>\n",
              "      <td>1</td>\n",
              "      <td>0</td>\n",
              "      <td>0</td>\n",
              "      <td>0</td>\n",
              "      <td>0</td>\n",
              "      <td>0</td>\n",
              "      <td>0</td>\n",
              "      <td>0</td>\n",
              "      <td>0</td>\n",
              "      <td>0</td>\n",
              "      <td>0</td>\n",
              "      <td>0</td>\n",
              "      <td>0</td>\n",
              "      <td>0</td>\n",
              "      <td>1</td>\n",
              "      <td>0</td>\n",
              "    </tr>\n",
              "    <tr>\n",
              "      <th>1</th>\n",
              "      <td>0.0</td>\n",
              "      <td>25.0</td>\n",
              "      <td>0</td>\n",
              "      <td>0</td>\n",
              "      <td>1</td>\n",
              "      <td>0</td>\n",
              "      <td>0</td>\n",
              "      <td>0</td>\n",
              "      <td>0</td>\n",
              "      <td>0</td>\n",
              "      <td>0</td>\n",
              "      <td>0</td>\n",
              "      <td>0</td>\n",
              "      <td>0</td>\n",
              "      <td>0</td>\n",
              "      <td>0</td>\n",
              "      <td>0</td>\n",
              "      <td>0</td>\n",
              "      <td>0</td>\n",
              "      <td>0</td>\n",
              "      <td>0</td>\n",
              "      <td>0</td>\n",
              "      <td>0</td>\n",
              "      <td>0</td>\n",
              "      <td>0</td>\n",
              "      <td>0</td>\n",
              "      <td>0</td>\n",
              "      <td>0</td>\n",
              "      <td>0</td>\n",
              "      <td>0</td>\n",
              "      <td>0</td>\n",
              "      <td>0</td>\n",
              "      <td>0</td>\n",
              "      <td>0</td>\n",
              "      <td>0</td>\n",
              "      <td>1</td>\n",
              "      <td>0</td>\n",
              "      <td>0</td>\n",
              "      <td>0</td>\n",
              "      <td>0</td>\n",
              "      <td>0</td>\n",
              "      <td>0</td>\n",
              "      <td>0</td>\n",
              "      <td>0</td>\n",
              "      <td>0</td>\n",
              "      <td>0</td>\n",
              "      <td>0</td>\n",
              "      <td>0</td>\n",
              "      <td>0</td>\n",
              "      <td>1</td>\n",
              "      <td>0</td>\n",
              "    </tr>\n",
              "    <tr>\n",
              "      <th>2</th>\n",
              "      <td>0.0</td>\n",
              "      <td>100.0</td>\n",
              "      <td>0</td>\n",
              "      <td>0</td>\n",
              "      <td>0</td>\n",
              "      <td>0</td>\n",
              "      <td>0</td>\n",
              "      <td>0</td>\n",
              "      <td>0</td>\n",
              "      <td>0</td>\n",
              "      <td>0</td>\n",
              "      <td>0</td>\n",
              "      <td>0</td>\n",
              "      <td>0</td>\n",
              "      <td>0</td>\n",
              "      <td>0</td>\n",
              "      <td>0</td>\n",
              "      <td>0</td>\n",
              "      <td>0</td>\n",
              "      <td>0</td>\n",
              "      <td>0</td>\n",
              "      <td>0</td>\n",
              "      <td>0</td>\n",
              "      <td>0</td>\n",
              "      <td>0</td>\n",
              "      <td>0</td>\n",
              "      <td>0</td>\n",
              "      <td>0</td>\n",
              "      <td>0</td>\n",
              "      <td>0</td>\n",
              "      <td>0</td>\n",
              "      <td>0</td>\n",
              "      <td>0</td>\n",
              "      <td>0</td>\n",
              "      <td>0</td>\n",
              "      <td>1</td>\n",
              "      <td>0</td>\n",
              "      <td>0</td>\n",
              "      <td>0</td>\n",
              "      <td>0</td>\n",
              "      <td>0</td>\n",
              "      <td>0</td>\n",
              "      <td>0</td>\n",
              "      <td>1</td>\n",
              "      <td>0</td>\n",
              "      <td>1</td>\n",
              "      <td>1</td>\n",
              "      <td>0</td>\n",
              "      <td>0</td>\n",
              "      <td>1</td>\n",
              "      <td>0</td>\n",
              "    </tr>\n",
              "    <tr>\n",
              "      <th>3</th>\n",
              "      <td>0.0</td>\n",
              "      <td>47.5</td>\n",
              "      <td>0</td>\n",
              "      <td>0</td>\n",
              "      <td>1</td>\n",
              "      <td>0</td>\n",
              "      <td>0</td>\n",
              "      <td>0</td>\n",
              "      <td>0</td>\n",
              "      <td>0</td>\n",
              "      <td>0</td>\n",
              "      <td>0</td>\n",
              "      <td>0</td>\n",
              "      <td>0</td>\n",
              "      <td>0</td>\n",
              "      <td>0</td>\n",
              "      <td>0</td>\n",
              "      <td>0</td>\n",
              "      <td>0</td>\n",
              "      <td>0</td>\n",
              "      <td>0</td>\n",
              "      <td>0</td>\n",
              "      <td>0</td>\n",
              "      <td>0</td>\n",
              "      <td>0</td>\n",
              "      <td>0</td>\n",
              "      <td>0</td>\n",
              "      <td>0</td>\n",
              "      <td>0</td>\n",
              "      <td>0</td>\n",
              "      <td>0</td>\n",
              "      <td>0</td>\n",
              "      <td>0</td>\n",
              "      <td>0</td>\n",
              "      <td>0</td>\n",
              "      <td>1</td>\n",
              "      <td>0</td>\n",
              "      <td>0</td>\n",
              "      <td>0</td>\n",
              "      <td>0</td>\n",
              "      <td>0</td>\n",
              "      <td>0</td>\n",
              "      <td>0</td>\n",
              "      <td>1</td>\n",
              "      <td>0</td>\n",
              "      <td>0</td>\n",
              "      <td>0</td>\n",
              "      <td>1</td>\n",
              "      <td>0</td>\n",
              "      <td>1</td>\n",
              "      <td>0</td>\n",
              "    </tr>\n",
              "    <tr>\n",
              "      <th>4</th>\n",
              "      <td>0.0</td>\n",
              "      <td>17.5</td>\n",
              "      <td>0</td>\n",
              "      <td>0</td>\n",
              "      <td>0</td>\n",
              "      <td>0</td>\n",
              "      <td>0</td>\n",
              "      <td>0</td>\n",
              "      <td>0</td>\n",
              "      <td>0</td>\n",
              "      <td>0</td>\n",
              "      <td>0</td>\n",
              "      <td>0</td>\n",
              "      <td>0</td>\n",
              "      <td>0</td>\n",
              "      <td>0</td>\n",
              "      <td>0</td>\n",
              "      <td>0</td>\n",
              "      <td>0</td>\n",
              "      <td>0</td>\n",
              "      <td>0</td>\n",
              "      <td>0</td>\n",
              "      <td>0</td>\n",
              "      <td>0</td>\n",
              "      <td>0</td>\n",
              "      <td>0</td>\n",
              "      <td>0</td>\n",
              "      <td>0</td>\n",
              "      <td>0</td>\n",
              "      <td>0</td>\n",
              "      <td>0</td>\n",
              "      <td>0</td>\n",
              "      <td>1</td>\n",
              "      <td>0</td>\n",
              "      <td>0</td>\n",
              "      <td>1</td>\n",
              "      <td>0</td>\n",
              "      <td>0</td>\n",
              "      <td>0</td>\n",
              "      <td>0</td>\n",
              "      <td>0</td>\n",
              "      <td>0</td>\n",
              "      <td>0</td>\n",
              "      <td>1</td>\n",
              "      <td>1</td>\n",
              "      <td>0</td>\n",
              "      <td>0</td>\n",
              "      <td>1</td>\n",
              "      <td>0</td>\n",
              "      <td>1</td>\n",
              "      <td>1</td>\n",
              "    </tr>\n",
              "  </tbody>\n",
              "</table>\n",
              "</div>"
            ],
            "text/plain": [
              "   PageValues  DislikeRates  ...  VisitorType_Returning_Visitor  Weekend_True\n",
              "0         0.0         100.0  ...                              1             0\n",
              "1         0.0          25.0  ...                              1             0\n",
              "2         0.0         100.0  ...                              1             0\n",
              "3         0.0          47.5  ...                              1             0\n",
              "4         0.0          17.5  ...                              1             1\n",
              "\n",
              "[5 rows x 51 columns]"
            ]
          },
          "metadata": {
            "tags": []
          },
          "execution_count": 59
        }
      ]
    },
    {
      "cell_type": "code",
      "metadata": {
        "id": "e_nCmdvfQ8UR",
        "colab": {
          "base_uri": "https://localhost:8080/",
          "height": 0
        },
        "outputId": "78b43451-801a-4368-fa94-f29d3803fd5c"
      },
      "source": [
        "Y.head()"
      ],
      "execution_count": 60,
      "outputs": [
        {
          "output_type": "execute_result",
          "data": {
            "text/plain": [
              "0    False\n",
              "1    False\n",
              "2    False\n",
              "3    False\n",
              "4    False\n",
              "Name: Revenue, dtype: bool"
            ]
          },
          "metadata": {
            "tags": []
          },
          "execution_count": 60
        }
      ]
    },
    {
      "cell_type": "markdown",
      "metadata": {
        "id": "l6L1Q4Y_Q8US"
      },
      "source": [
        "## Train Test Split"
      ]
    },
    {
      "cell_type": "code",
      "metadata": {
        "id": "Yh_8rpj3Q8US",
        "colab": {
          "base_uri": "https://localhost:8080/",
          "height": 0
        },
        "outputId": "c353f851-aa27-4253-f2c2-21ea72175ff1"
      },
      "source": [
        "X_train, X_test, y_train, y_test = train_test_split(X, Y, test_size=0.33, random_state=42)\n",
        "\n",
        "mlp_nn = MLPClassifier()\n",
        "mlp_nn.fit(X_train, y_train)"
      ],
      "execution_count": 61,
      "outputs": [
        {
          "output_type": "stream",
          "text": [
            "/usr/local/lib/python3.7/dist-packages/sklearn/neural_network/_multilayer_perceptron.py:571: ConvergenceWarning: Stochastic Optimizer: Maximum iterations (200) reached and the optimization hasn't converged yet.\n",
            "  % self.max_iter, ConvergenceWarning)\n"
          ],
          "name": "stderr"
        },
        {
          "output_type": "execute_result",
          "data": {
            "text/plain": [
              "MLPClassifier(activation='relu', alpha=0.0001, batch_size='auto', beta_1=0.9,\n",
              "              beta_2=0.999, early_stopping=False, epsilon=1e-08,\n",
              "              hidden_layer_sizes=(100,), learning_rate='constant',\n",
              "              learning_rate_init=0.001, max_fun=15000, max_iter=200,\n",
              "              momentum=0.9, n_iter_no_change=10, nesterovs_momentum=True,\n",
              "              power_t=0.5, random_state=None, shuffle=True, solver='adam',\n",
              "              tol=0.0001, validation_fraction=0.1, verbose=False,\n",
              "              warm_start=False)"
            ]
          },
          "metadata": {
            "tags": []
          },
          "execution_count": 61
        }
      ]
    },
    {
      "cell_type": "code",
      "metadata": {
        "id": "ADpL76FNQ8UT",
        "colab": {
          "base_uri": "https://localhost:8080/",
          "height": 0
        },
        "outputId": "7ffa362b-8e1a-4bd4-933e-3cebe16e18f0"
      },
      "source": [
        "mlp_nn_test_score = mlp_nn.score(X_test, y_test)\n",
        "mlp_nn_train_score = mlp_nn.score(X_train, y_train)\n",
        "mlp_nn_bias = abs(mlp_nn_train_score- mlp_nn_test_score)\n",
        "\n",
        "print(f\"MLP Neural Network Train Score : {mlp_nn_train_score}\")\n",
        "print(f\"MLP Neural Network Test Score : {mlp_nn_test_score}\")\n",
        "print(f\"MLP Neural Network Bias : {mlp_nn_bias}\")"
      ],
      "execution_count": 62,
      "outputs": [
        {
          "output_type": "stream",
          "text": [
            "MLP Neural Network Train Score : 0.9438324658031715\n",
            "MLP Neural Network Test Score : 0.8908822806586385\n",
            "MLP Neural Network Bias : 0.05295018514453298\n"
          ],
          "name": "stdout"
        }
      ]
    },
    {
      "cell_type": "code",
      "metadata": {
        "id": "f5DL9VA2Q8UU",
        "colab": {
          "base_uri": "https://localhost:8080/",
          "height": 0
        },
        "outputId": "727216b4-1c09-4d60-e050-451259fefe9a"
      },
      "source": [
        "random_probs = [0 for _ in range(len(y_test))]\n",
        "mlp_nn_probs = mlp_nn.predict_proba(X_test)[:, 1]\n",
        "\n",
        "random_auc = roc_auc_score(y_test, random_probs)\n",
        "mlp_nn_auc = roc_auc_score(y_test, mlp_nn_probs)\n",
        "\n",
        "print(f\"Auc random : {round(random_auc * 100)}\")\n",
        "print(f\"Auc MLP Neural Network : {round(mlp_nn_auc*100)}\")"
      ],
      "execution_count": 63,
      "outputs": [
        {
          "output_type": "stream",
          "text": [
            "Auc random : 50\n",
            "Auc MLP Neural Network : 92\n"
          ],
          "name": "stdout"
        }
      ]
    },
    {
      "cell_type": "code",
      "metadata": {
        "id": "JPEQlX9qQ8UU"
      },
      "source": [
        "random_probs = [0 for _ in range(len(y_test))]\n",
        "mlp_nn_probs = mlp_nn.predict_proba(X_test)[:, 1]\n",
        "\n",
        "random_auc = roc_auc_score(y_test, random_probs)\n",
        "mlp_nn_auc = roc_auc_score(y_test, mlp_nn_probs)\n",
        "\n",
        "random_fpr, random_tpr, _ = roc_curve(y_test, random_probs)\n",
        "mlp_nn_fpr, mlp_nn_tpr, _ = roc_curve(y_test, mlp_nn_probs)"
      ],
      "execution_count": 64,
      "outputs": []
    },
    {
      "cell_type": "code",
      "metadata": {
        "id": "RSseYJh9Q8UV",
        "colab": {
          "base_uri": "https://localhost:8080/",
          "height": 567
        },
        "outputId": "7b5841f8-731f-4e4b-cd81-70f83455fcb2"
      },
      "source": [
        "fig, ax = plt.subplots(figsize=(15, 9))\n",
        "\n",
        "plt.plot(random_fpr, random_tpr, linestyle=\"--\", label=\"Random Prediction (AUC = %0.3f)\"%random_auc)\n",
        "plt.plot(mlp_nn_fpr, mlp_nn_tpr, marker=\".\", label=\"MLP Neural Network (AUC = %0.3f)\"%mlp_nn_auc)\n",
        "\n",
        "plt.title(\"ROC Curve\")\n",
        "\n",
        "plt.xlabel(\"False Positive Rate\")\n",
        "plt.ylabel(\"True Positive Rate\")\n",
        "\n",
        "plt.legend()\n",
        "\n",
        "plt.show()"
      ],
      "execution_count": 65,
      "outputs": [
        {
          "output_type": "display_data",
          "data": {
            "image/png": "[encoded data removed]",
            "text/plain": [
              "<Figure size 1080x648 with 1 Axes>"
            ]
          },
          "metadata": {
            "tags": [],
            "needs_background": "light"
          }
        }
      ]
    },
    {
      "cell_type": "markdown",
      "metadata": {
        "id": "qAn_IeS9Q8UW"
      },
      "source": [
        "## KFold"
      ]
    },
    {
      "cell_type": "code",
      "metadata": {
        "id": "EyzEWNIwQ8UW",
        "colab": {
          "base_uri": "https://localhost:8080/",
          "height": 0
        },
        "outputId": "2aa7dba7-f878-460b-affd-f895f6d5913c"
      },
      "source": [
        "N = 5\n",
        "skf = StratifiedKFold(n_splits=N, random_state=42, shuffle=True)\n",
        "mlp_nn = MLPClassifier()\n",
        "\n",
        "mlp_nn_test_scores = np.array([])\n",
        "mlp_nn_train_scores = np.array([])\n",
        "\n",
        "for fold, (trn_idx, val_idx) in enumerate(skf.split(X, Y), 1):\n",
        "    print(f\"Fold {fold}\\n-------------------------------------\")\n",
        "    \n",
        "    mlp_nn.fit(X.iloc[trn_idx], Y.iloc[trn_idx])\n",
        "\n",
        "    mlp_nn_train_score = mlp_nn.score(X.iloc[trn_idx], Y.iloc[trn_idx])\n",
        "    mlp_nn_test_score = mlp_nn.score(X.iloc[val_idx], Y.iloc[val_idx])\n",
        "    mlp_nn_bias = abs(mlp_nn_train_score - mlp_nn_test_score)\n",
        "\n",
        "    mlp_nn_test_scores = np.append(mlp_nn_test_scores, mlp_nn_test_score)\n",
        "    mlp_nn_train_scores = np.append(mlp_nn_train_scores, mlp_nn_train_score)\n",
        "    \n",
        "    print(f\"MLP Neural Network Train Score : {mlp_nn_train_score}\")\n",
        "    print(f\"MLP Neural Network Test Score : {mlp_nn_test_score}\")\n",
        "    print(f\"MLP Neural Network Bias : {mlp_nn_bias}\\n-------------------------------------\")\n",
        "\n",
        "mlp_nn_mean_test_score = mlp_nn_test_scores.mean()\n",
        "mlp_nn_mean_train_score = mlp_nn_train_scores.mean()\n",
        "mlp_nn_mean_bias = abs(mlp_nn_mean_train_score - mlp_nn_mean_test_score)\n",
        "\n",
        "print(\"Mean Scores and Bias\\n-------------------------------------\")\n",
        "    \n",
        "print(f\"MLP Neural Network Train Score : {mlp_nn_mean_train_score}\")\n",
        "print(f\"MLP Neural Network Test Score : {mlp_nn_mean_test_score}\")\n",
        "print(f\"MLP Neural Network Bias : {mlp_nn_mean_bias}\")"
      ],
      "execution_count": 66,
      "outputs": [
        {
          "output_type": "stream",
          "text": [
            "Fold 1\n",
            "-------------------------------------\n"
          ],
          "name": "stdout"
        },
        {
          "output_type": "stream",
          "text": [
            "/usr/local/lib/python3.7/dist-packages/sklearn/neural_network/_multilayer_perceptron.py:571: ConvergenceWarning: Stochastic Optimizer: Maximum iterations (200) reached and the optimization hasn't converged yet.\n",
            "  % self.max_iter, ConvergenceWarning)\n"
          ],
          "name": "stderr"
        },
        {
          "output_type": "stream",
          "text": [
            "MLP Neural Network Train Score : 0.9396796431467964\n",
            "MLP Neural Network Test Score : 0.8953771289537713\n",
            "MLP Neural Network Bias : 0.04430251419302511\n",
            "-------------------------------------\n",
            "Fold 2\n",
            "-------------------------------------\n"
          ],
          "name": "stdout"
        },
        {
          "output_type": "stream",
          "text": [
            "/usr/local/lib/python3.7/dist-packages/sklearn/neural_network/_multilayer_perceptron.py:571: ConvergenceWarning: Stochastic Optimizer: Maximum iterations (200) reached and the optimization hasn't converged yet.\n",
            "  % self.max_iter, ConvergenceWarning)\n"
          ],
          "name": "stderr"
        },
        {
          "output_type": "stream",
          "text": [
            "MLP Neural Network Train Score : 0.9327858880778589\n",
            "MLP Neural Network Test Score : 0.8868613138686131\n",
            "MLP Neural Network Bias : 0.04592457420924578\n",
            "-------------------------------------\n",
            "Fold 3\n",
            "-------------------------------------\n"
          ],
          "name": "stdout"
        },
        {
          "output_type": "stream",
          "text": [
            "/usr/local/lib/python3.7/dist-packages/sklearn/neural_network/_multilayer_perceptron.py:571: ConvergenceWarning: Stochastic Optimizer: Maximum iterations (200) reached and the optimization hasn't converged yet.\n",
            "  % self.max_iter, ConvergenceWarning)\n"
          ],
          "name": "stderr"
        },
        {
          "output_type": "stream",
          "text": [
            "MLP Neural Network Train Score : 0.9349148418491484\n",
            "MLP Neural Network Test Score : 0.8864557988645579\n",
            "MLP Neural Network Bias : 0.04845904298459047\n",
            "-------------------------------------\n",
            "Fold 4\n",
            "-------------------------------------\n"
          ],
          "name": "stdout"
        },
        {
          "output_type": "stream",
          "text": [
            "/usr/local/lib/python3.7/dist-packages/sklearn/neural_network/_multilayer_perceptron.py:571: ConvergenceWarning: Stochastic Optimizer: Maximum iterations (200) reached and the optimization hasn't converged yet.\n",
            "  % self.max_iter, ConvergenceWarning)\n"
          ],
          "name": "stderr"
        },
        {
          "output_type": "stream",
          "text": [
            "MLP Neural Network Train Score : 0.9367396593673966\n",
            "MLP Neural Network Test Score : 0.8828061638280617\n",
            "MLP Neural Network Bias : 0.05393349553933491\n",
            "-------------------------------------\n",
            "Fold 5\n",
            "-------------------------------------\n",
            "MLP Neural Network Train Score : 0.9390713706407137\n",
            "MLP Neural Network Test Score : 0.883617193836172\n",
            "MLP Neural Network Bias : 0.05545417680454168\n",
            "-------------------------------------\n",
            "Mean Scores and Bias\n",
            "-------------------------------------\n",
            "MLP Neural Network Train Score : 0.9366382806163829\n",
            "MLP Neural Network Test Score : 0.8870235198702352\n",
            "MLP Neural Network Bias : 0.04961476074614768\n"
          ],
          "name": "stdout"
        },
        {
          "output_type": "stream",
          "text": [
            "/usr/local/lib/python3.7/dist-packages/sklearn/neural_network/_multilayer_perceptron.py:571: ConvergenceWarning: Stochastic Optimizer: Maximum iterations (200) reached and the optimization hasn't converged yet.\n",
            "  % self.max_iter, ConvergenceWarning)\n"
          ],
          "name": "stderr"
        }
      ]
    }
  ]
}